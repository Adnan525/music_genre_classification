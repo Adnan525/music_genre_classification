{
 "cells": [
  {
   "cell_type": "code",
   "execution_count": 44,
   "id": "346d56b5-b180-403c-abcb-3cbe14ee694b",
   "metadata": {},
   "outputs": [],
   "source": [
    "\n",
    "import pandas as pd\n",
    "import numpy as np\n",
    "import matplotlib.pyplot as plt\n",
    "import seaborn as sns\n",
    "from sklearn.model_selection import train_test_split\n",
    "from sklearn import preprocessing as prp\n",
    "from sklearn.metrics import accuracy_score, precision_score, recall_score, f1_score, roc_auc_score, confusion_matrix"
   ]
  },
  {
   "cell_type": "code",
   "execution_count": 45,
   "id": "23bba925-d445-4d8e-a778-81113463d788",
   "metadata": {},
   "outputs": [],
   "source": [
    "import warnings\n",
    "warnings.filterwarnings(\"ignore\")"
   ]
  },
  {
   "cell_type": "code",
   "execution_count": 46,
   "id": "0fb48223-0c6d-4e49-98f4-1d467cf33e4b",
   "metadata": {},
   "outputs": [],
   "source": [
    "target = pd.DataFrame()"
   ]
  },
  {
   "cell_type": "code",
   "execution_count": 47,
   "id": "349bdfd3-a964-4e50-b956-9be20e8e27f4",
   "metadata": {},
   "outputs": [],
   "source": [
    "df = pd.read_csv(\"features_3_sec.csv\")"
   ]
  },
  {
   "cell_type": "code",
   "execution_count": 48,
   "id": "1d1817e4-012c-4e4b-aedf-aaa32befba5b",
   "metadata": {},
   "outputs": [
    {
     "data": {
      "text/plain": [
       "(9990, 60)"
      ]
     },
     "execution_count": 48,
     "metadata": {},
     "output_type": "execute_result"
    }
   ],
   "source": [
    "df.shape"
   ]
  },
  {
   "cell_type": "code",
   "execution_count": 49,
   "id": "4514c4f0-3e8c-4048-9970-c3ec5389203c",
   "metadata": {},
   "outputs": [
    {
     "data": {
      "text/plain": [
       "Index(['filename', 'length', 'chroma_stft_mean', 'chroma_stft_var', 'rms_mean',\n",
       "       'rms_var', 'spectral_centroid_mean', 'spectral_centroid_var',\n",
       "       'spectral_bandwidth_mean', 'spectral_bandwidth_var', 'rolloff_mean',\n",
       "       'rolloff_var', 'zero_crossing_rate_mean', 'zero_crossing_rate_var',\n",
       "       'harmony_mean', 'harmony_var', 'perceptr_mean', 'perceptr_var', 'tempo',\n",
       "       'mfcc1_mean', 'mfcc1_var', 'mfcc2_mean', 'mfcc2_var', 'mfcc3_mean',\n",
       "       'mfcc3_var', 'mfcc4_mean', 'mfcc4_var', 'mfcc5_mean', 'mfcc5_var',\n",
       "       'mfcc6_mean', 'mfcc6_var', 'mfcc7_mean', 'mfcc7_var', 'mfcc8_mean',\n",
       "       'mfcc8_var', 'mfcc9_mean', 'mfcc9_var', 'mfcc10_mean', 'mfcc10_var',\n",
       "       'mfcc11_mean', 'mfcc11_var', 'mfcc12_mean', 'mfcc12_var', 'mfcc13_mean',\n",
       "       'mfcc13_var', 'mfcc14_mean', 'mfcc14_var', 'mfcc15_mean', 'mfcc15_var',\n",
       "       'mfcc16_mean', 'mfcc16_var', 'mfcc17_mean', 'mfcc17_var', 'mfcc18_mean',\n",
       "       'mfcc18_var', 'mfcc19_mean', 'mfcc19_var', 'mfcc20_mean', 'mfcc20_var',\n",
       "       'label'],\n",
       "      dtype='object')"
      ]
     },
     "execution_count": 49,
     "metadata": {},
     "output_type": "execute_result"
    }
   ],
   "source": [
    "df.columns"
   ]
  },
  {
   "cell_type": "code",
   "execution_count": 50,
   "id": "2492130b-f8e2-408b-9ef7-4172a906dfca",
   "metadata": {},
   "outputs": [
    {
     "data": {
      "text/plain": [
       "9990"
      ]
     },
     "execution_count": 50,
     "metadata": {},
     "output_type": "execute_result"
    }
   ],
   "source": [
    "len(df[\"filename\"].unique())"
   ]
  },
  {
   "cell_type": "code",
   "execution_count": 51,
   "id": "9ded6bd6-c70b-4253-b09b-fedd68712a9d",
   "metadata": {},
   "outputs": [
    {
     "data": {
      "text/html": [
       "<div>\n",
       "<style scoped>\n",
       "    .dataframe tbody tr th:only-of-type {\n",
       "        vertical-align: middle;\n",
       "    }\n",
       "\n",
       "    .dataframe tbody tr th {\n",
       "        vertical-align: top;\n",
       "    }\n",
       "\n",
       "    .dataframe thead th {\n",
       "        text-align: right;\n",
       "    }\n",
       "</style>\n",
       "<table border=\"1\" class=\"dataframe\">\n",
       "  <thead>\n",
       "    <tr style=\"text-align: right;\">\n",
       "      <th></th>\n",
       "      <th>filename</th>\n",
       "      <th>length</th>\n",
       "      <th>chroma_stft_mean</th>\n",
       "      <th>chroma_stft_var</th>\n",
       "      <th>rms_mean</th>\n",
       "      <th>rms_var</th>\n",
       "      <th>spectral_centroid_mean</th>\n",
       "      <th>spectral_centroid_var</th>\n",
       "      <th>spectral_bandwidth_mean</th>\n",
       "      <th>spectral_bandwidth_var</th>\n",
       "      <th>...</th>\n",
       "      <th>mfcc16_var</th>\n",
       "      <th>mfcc17_mean</th>\n",
       "      <th>mfcc17_var</th>\n",
       "      <th>mfcc18_mean</th>\n",
       "      <th>mfcc18_var</th>\n",
       "      <th>mfcc19_mean</th>\n",
       "      <th>mfcc19_var</th>\n",
       "      <th>mfcc20_mean</th>\n",
       "      <th>mfcc20_var</th>\n",
       "      <th>label</th>\n",
       "    </tr>\n",
       "  </thead>\n",
       "  <tbody>\n",
       "    <tr>\n",
       "      <th>0</th>\n",
       "      <td>blues.00000.0.wav</td>\n",
       "      <td>66149</td>\n",
       "      <td>0.335406</td>\n",
       "      <td>0.091048</td>\n",
       "      <td>0.130405</td>\n",
       "      <td>0.003521</td>\n",
       "      <td>1773.065032</td>\n",
       "      <td>167541.630869</td>\n",
       "      <td>1972.744388</td>\n",
       "      <td>117335.771563</td>\n",
       "      <td>...</td>\n",
       "      <td>39.687145</td>\n",
       "      <td>-3.241280</td>\n",
       "      <td>36.488243</td>\n",
       "      <td>0.722209</td>\n",
       "      <td>38.099152</td>\n",
       "      <td>-5.050335</td>\n",
       "      <td>33.618073</td>\n",
       "      <td>-0.243027</td>\n",
       "      <td>43.771767</td>\n",
       "      <td>blues</td>\n",
       "    </tr>\n",
       "    <tr>\n",
       "      <th>1</th>\n",
       "      <td>blues.00000.1.wav</td>\n",
       "      <td>66149</td>\n",
       "      <td>0.343065</td>\n",
       "      <td>0.086147</td>\n",
       "      <td>0.112699</td>\n",
       "      <td>0.001450</td>\n",
       "      <td>1816.693777</td>\n",
       "      <td>90525.690866</td>\n",
       "      <td>2010.051501</td>\n",
       "      <td>65671.875673</td>\n",
       "      <td>...</td>\n",
       "      <td>64.748276</td>\n",
       "      <td>-6.055294</td>\n",
       "      <td>40.677654</td>\n",
       "      <td>0.159015</td>\n",
       "      <td>51.264091</td>\n",
       "      <td>-2.837699</td>\n",
       "      <td>97.030830</td>\n",
       "      <td>5.784063</td>\n",
       "      <td>59.943081</td>\n",
       "      <td>blues</td>\n",
       "    </tr>\n",
       "    <tr>\n",
       "      <th>2</th>\n",
       "      <td>blues.00000.2.wav</td>\n",
       "      <td>66149</td>\n",
       "      <td>0.346815</td>\n",
       "      <td>0.092243</td>\n",
       "      <td>0.132003</td>\n",
       "      <td>0.004620</td>\n",
       "      <td>1788.539719</td>\n",
       "      <td>111407.437613</td>\n",
       "      <td>2084.565132</td>\n",
       "      <td>75124.921716</td>\n",
       "      <td>...</td>\n",
       "      <td>67.336563</td>\n",
       "      <td>-1.768610</td>\n",
       "      <td>28.348579</td>\n",
       "      <td>2.378768</td>\n",
       "      <td>45.717648</td>\n",
       "      <td>-1.938424</td>\n",
       "      <td>53.050835</td>\n",
       "      <td>2.517375</td>\n",
       "      <td>33.105122</td>\n",
       "      <td>blues</td>\n",
       "    </tr>\n",
       "    <tr>\n",
       "      <th>3</th>\n",
       "      <td>blues.00000.3.wav</td>\n",
       "      <td>66149</td>\n",
       "      <td>0.363639</td>\n",
       "      <td>0.086856</td>\n",
       "      <td>0.132565</td>\n",
       "      <td>0.002448</td>\n",
       "      <td>1655.289045</td>\n",
       "      <td>111952.284517</td>\n",
       "      <td>1960.039988</td>\n",
       "      <td>82913.639269</td>\n",
       "      <td>...</td>\n",
       "      <td>47.739452</td>\n",
       "      <td>-3.841155</td>\n",
       "      <td>28.337118</td>\n",
       "      <td>1.218588</td>\n",
       "      <td>34.770935</td>\n",
       "      <td>-3.580352</td>\n",
       "      <td>50.836224</td>\n",
       "      <td>3.630866</td>\n",
       "      <td>32.023678</td>\n",
       "      <td>blues</td>\n",
       "    </tr>\n",
       "    <tr>\n",
       "      <th>4</th>\n",
       "      <td>blues.00000.4.wav</td>\n",
       "      <td>66149</td>\n",
       "      <td>0.335579</td>\n",
       "      <td>0.088129</td>\n",
       "      <td>0.143289</td>\n",
       "      <td>0.001701</td>\n",
       "      <td>1630.656199</td>\n",
       "      <td>79667.267654</td>\n",
       "      <td>1948.503884</td>\n",
       "      <td>60204.020268</td>\n",
       "      <td>...</td>\n",
       "      <td>30.336359</td>\n",
       "      <td>0.664582</td>\n",
       "      <td>45.880913</td>\n",
       "      <td>1.689446</td>\n",
       "      <td>51.363583</td>\n",
       "      <td>-3.392489</td>\n",
       "      <td>26.738789</td>\n",
       "      <td>0.536961</td>\n",
       "      <td>29.146694</td>\n",
       "      <td>blues</td>\n",
       "    </tr>\n",
       "  </tbody>\n",
       "</table>\n",
       "<p>5 rows × 60 columns</p>\n",
       "</div>"
      ],
      "text/plain": [
       "            filename  length  chroma_stft_mean  chroma_stft_var  rms_mean  \\\n",
       "0  blues.00000.0.wav   66149          0.335406         0.091048  0.130405   \n",
       "1  blues.00000.1.wav   66149          0.343065         0.086147  0.112699   \n",
       "2  blues.00000.2.wav   66149          0.346815         0.092243  0.132003   \n",
       "3  blues.00000.3.wav   66149          0.363639         0.086856  0.132565   \n",
       "4  blues.00000.4.wav   66149          0.335579         0.088129  0.143289   \n",
       "\n",
       "    rms_var  spectral_centroid_mean  spectral_centroid_var  \\\n",
       "0  0.003521             1773.065032          167541.630869   \n",
       "1  0.001450             1816.693777           90525.690866   \n",
       "2  0.004620             1788.539719          111407.437613   \n",
       "3  0.002448             1655.289045          111952.284517   \n",
       "4  0.001701             1630.656199           79667.267654   \n",
       "\n",
       "   spectral_bandwidth_mean  spectral_bandwidth_var  ...  mfcc16_var  \\\n",
       "0              1972.744388           117335.771563  ...   39.687145   \n",
       "1              2010.051501            65671.875673  ...   64.748276   \n",
       "2              2084.565132            75124.921716  ...   67.336563   \n",
       "3              1960.039988            82913.639269  ...   47.739452   \n",
       "4              1948.503884            60204.020268  ...   30.336359   \n",
       "\n",
       "   mfcc17_mean  mfcc17_var  mfcc18_mean  mfcc18_var  mfcc19_mean  mfcc19_var  \\\n",
       "0    -3.241280   36.488243     0.722209   38.099152    -5.050335   33.618073   \n",
       "1    -6.055294   40.677654     0.159015   51.264091    -2.837699   97.030830   \n",
       "2    -1.768610   28.348579     2.378768   45.717648    -1.938424   53.050835   \n",
       "3    -3.841155   28.337118     1.218588   34.770935    -3.580352   50.836224   \n",
       "4     0.664582   45.880913     1.689446   51.363583    -3.392489   26.738789   \n",
       "\n",
       "   mfcc20_mean  mfcc20_var  label  \n",
       "0    -0.243027   43.771767  blues  \n",
       "1     5.784063   59.943081  blues  \n",
       "2     2.517375   33.105122  blues  \n",
       "3     3.630866   32.023678  blues  \n",
       "4     0.536961   29.146694  blues  \n",
       "\n",
       "[5 rows x 60 columns]"
      ]
     },
     "execution_count": 51,
     "metadata": {},
     "output_type": "execute_result"
    }
   ],
   "source": [
    "df.head()"
   ]
  },
  {
   "cell_type": "code",
   "execution_count": 52,
   "id": "345625cf-982a-4daa-b55a-74154407a27f",
   "metadata": {},
   "outputs": [],
   "source": [
    "df.drop(\"filename\", axis = 1, inplace=True)"
   ]
  },
  {
   "cell_type": "code",
   "execution_count": 53,
   "id": "f3ec93cc-ec2e-4100-b7b5-99e15c6eed1c",
   "metadata": {},
   "outputs": [],
   "source": [
    "encoder = prp.LabelEncoder()\n",
    "X = df.drop(\"label\", axis = 1)\n",
    "y = encoder.fit_transform(df[\"label\"])"
   ]
  },
  {
   "cell_type": "code",
   "execution_count": 54,
   "id": "3616540f-2126-4353-b8cd-e68e357ef92f",
   "metadata": {},
   "outputs": [],
   "source": [
    "standard_scaler = prp.StandardScaler()\n",
    "max_abs_scaler = prp.MaxAbsScaler()\n",
    "min_max_scaler = prp.MinMaxScaler()"
   ]
  },
  {
   "cell_type": "code",
   "execution_count": 55,
   "id": "54023c69-50e6-44f4-91df-148fb1c9d0bc",
   "metadata": {},
   "outputs": [],
   "source": [
    "X_train, X_test, y_train, y_test = train_test_split(X, y, test_size=0.3, random_state=42, stratify = y)"
   ]
  },
  {
   "cell_type": "code",
   "execution_count": 56,
   "id": "2fbe38ab-1c74-43f2-8a69-64b57cf31453",
   "metadata": {},
   "outputs": [],
   "source": [
    "X_train_std_scaled = standard_scaler.fit_transform(X_train)\n",
    "X_test_std_scaled = standard_scaler.transform(X_test)"
   ]
  },
  {
   "cell_type": "code",
   "execution_count": 57,
   "id": "5bb11748-7cca-4fcc-a566-c120bdc951e8",
   "metadata": {},
   "outputs": [],
   "source": [
    "X_train_max_abs_scaled = max_abs_scaler.fit_transform(X_train)\n",
    "X_test_max_abs_scaled = max_abs_scaler.transform(X_test)"
   ]
  },
  {
   "cell_type": "code",
   "execution_count": 58,
   "id": "5414ee1c-b03c-43cf-8258-2bcb9fd1d3f9",
   "metadata": {},
   "outputs": [],
   "source": [
    "X_train_min_max_scaled = min_max_scaler.fit_transform(X_train)\n",
    "X_test_min_max_scaled = min_max_scaler.transform(X_test)"
   ]
  },
  {
   "cell_type": "code",
   "execution_count": 59,
   "id": "68552f6a-3857-4fda-88ac-ef18e483efff",
   "metadata": {},
   "outputs": [],
   "source": [
    "def model_assess(name, model, XTrain, XTest):\n",
    "    model.fit(XTrain, y_train)\n",
    "    preds = model.predict(XTest)\n",
    "    print(f'{name} Accuracy:', round(accuracy_score(y_test, preds), 5), '\\n')\n",
    "    target.loc[name, \"Accuracy\"] = round(accuracy_score(y_test, preds), 5)"
   ]
  },
  {
   "cell_type": "markdown",
   "id": "198d0627-1f89-475a-a793-a132698cb85b",
   "metadata": {},
   "source": [
    "# Gradient boost with 1000 estimators had best result"
   ]
  },
  {
   "cell_type": "code",
   "execution_count": 60,
   "id": "e923e4d1-e1ce-4054-be2f-6862612d6c66",
   "metadata": {},
   "outputs": [],
   "source": [
    "from xgboost import XGBClassifier"
   ]
  },
  {
   "cell_type": "code",
   "execution_count": 61,
   "id": "fb132d66-92ff-4d12-afb3-62f90d0aa98d",
   "metadata": {},
   "outputs": [],
   "source": [
    "model  = XGBClassifier(n_estimators = 1000, learning_rate = 0.01)"
   ]
  },
  {
   "cell_type": "code",
   "execution_count": 141,
   "id": "cad09ade-70c6-4448-abd1-1da192a0d0e2",
   "metadata": {},
   "outputs": [
    {
     "name": "stdout",
     "output_type": "stream",
     "text": [
      "xgb_no_scale Accuracy: 0.8642 \n",
      "\n"
     ]
    }
   ],
   "source": [
    "model_assess(\"xgb_no_scale\", model, X_train, X_test)"
   ]
  },
  {
   "cell_type": "code",
   "execution_count": 142,
   "id": "035cf25d-7e54-47e5-b457-78c79b38ba90",
   "metadata": {},
   "outputs": [
    {
     "name": "stdout",
     "output_type": "stream",
     "text": [
      "xgb_std_scale Accuracy: 0.8642 \n",
      "\n"
     ]
    }
   ],
   "source": [
    "model_assess(\"xgb_std_scale\", model, X_train_std_scaled , X_test_std_scaled)"
   ]
  },
  {
   "cell_type": "code",
   "execution_count": 143,
   "id": "8ea54581-385a-4cce-877b-89a3ee409f67",
   "metadata": {},
   "outputs": [
    {
     "name": "stdout",
     "output_type": "stream",
     "text": [
      "xgb_max_abs_scale Accuracy: 0.8642 \n",
      "\n"
     ]
    }
   ],
   "source": [
    "model_assess(\"xgb_max_abs_scale\", model, X_train_max_abs_scaled, X_test_max_abs_scaled)"
   ]
  },
  {
   "cell_type": "code",
   "execution_count": 144,
   "id": "5a589428-f0e7-4589-83aa-e945d5a21c05",
   "metadata": {},
   "outputs": [
    {
     "name": "stdout",
     "output_type": "stream",
     "text": [
      "xgb_min_max_scale Accuracy: 0.86453 \n",
      "\n"
     ]
    }
   ],
   "source": [
    "model_assess(\"xgb_min_max_scale\", model, X_train_min_max_scaled, X_test_min_max_scaled)"
   ]
  },
  {
   "cell_type": "code",
   "execution_count": 145,
   "id": "9acb3121-39b0-43b7-8ee8-d52f83fb1c8e",
   "metadata": {},
   "outputs": [
    {
     "data": {
      "text/html": [
       "<div>\n",
       "<style scoped>\n",
       "    .dataframe tbody tr th:only-of-type {\n",
       "        vertical-align: middle;\n",
       "    }\n",
       "\n",
       "    .dataframe tbody tr th {\n",
       "        vertical-align: top;\n",
       "    }\n",
       "\n",
       "    .dataframe thead th {\n",
       "        text-align: right;\n",
       "    }\n",
       "</style>\n",
       "<table border=\"1\" class=\"dataframe\">\n",
       "  <thead>\n",
       "    <tr style=\"text-align: right;\">\n",
       "      <th></th>\n",
       "      <th>Accuracy</th>\n",
       "    </tr>\n",
       "  </thead>\n",
       "  <tbody>\n",
       "    <tr>\n",
       "      <th>xgb_no_scale</th>\n",
       "      <td>0.86420</td>\n",
       "    </tr>\n",
       "    <tr>\n",
       "      <th>xgb_std_scale</th>\n",
       "      <td>0.86420</td>\n",
       "    </tr>\n",
       "    <tr>\n",
       "      <th>xgb_max_abs_scale</th>\n",
       "      <td>0.86420</td>\n",
       "    </tr>\n",
       "    <tr>\n",
       "      <th>xgb_min_max_scale</th>\n",
       "      <td>0.86453</td>\n",
       "    </tr>\n",
       "  </tbody>\n",
       "</table>\n",
       "</div>"
      ],
      "text/plain": [
       "                   Accuracy\n",
       "xgb_no_scale        0.86420\n",
       "xgb_std_scale       0.86420\n",
       "xgb_max_abs_scale   0.86420\n",
       "xgb_min_max_scale   0.86453"
      ]
     },
     "execution_count": 145,
     "metadata": {},
     "output_type": "execute_result"
    }
   ],
   "source": [
    "target"
   ]
  },
  {
   "cell_type": "markdown",
   "id": "afc8c079-101c-4dee-b1c3-b1c989a4bc47",
   "metadata": {},
   "source": [
    "# The problms there's a chance that train and test set will have different part of the same song! thus probably we are getting this very high accuracy?"
   ]
  },
  {
   "cell_type": "code",
   "execution_count": 62,
   "id": "c00abb66-6720-4417-b074-991fd3ec0985",
   "metadata": {},
   "outputs": [],
   "source": [
    "df = pd.read_csv(\"features_3_sec.csv\")"
   ]
  },
  {
   "cell_type": "code",
   "execution_count": 63,
   "id": "0b32fe45-2bfb-4b28-89e3-f5ed2a4552f9",
   "metadata": {},
   "outputs": [],
   "source": [
    "# no idea why!!\n",
    "df.drop(\"length\", axis = 1, inplace = True)"
   ]
  },
  {
   "cell_type": "code",
   "execution_count": 64,
   "id": "a6c5dfc9-0a98-4f8c-beee-32c2820207c3",
   "metadata": {},
   "outputs": [],
   "source": [
    "df[\"filename\"] = df[\"filename\"].str[:-6]"
   ]
  },
  {
   "cell_type": "code",
   "execution_count": 65,
   "id": "6674ecc6-15ce-486c-81a9-912d28d72ac8",
   "metadata": {},
   "outputs": [
    {
     "data": {
      "text/plain": [
       "1000"
      ]
     },
     "execution_count": 65,
     "metadata": {},
     "output_type": "execute_result"
    }
   ],
   "source": [
    "len(df[\"filename\"].unique())"
   ]
  },
  {
   "cell_type": "code",
   "execution_count": 66,
   "id": "e00e945c-8433-4714-ba05-badf168ef18b",
   "metadata": {},
   "outputs": [
    {
     "data": {
      "text/plain": [
       "'rock.00099'"
      ]
     },
     "execution_count": 66,
     "metadata": {},
     "output_type": "execute_result"
    }
   ],
   "source": [
    "df[\"filename\"][9989]"
   ]
  },
  {
   "cell_type": "code",
   "execution_count": 67,
   "id": "cd7a6b49-97f8-4213-a1b6-f5a14318a6f0",
   "metadata": {},
   "outputs": [
    {
     "data": {
      "text/plain": [
       "(2000, 59)"
      ]
     },
     "execution_count": 67,
     "metadata": {},
     "output_type": "execute_result"
    }
   ],
   "source": [
    "test = pd.DataFrame(columns=df.columns)\n",
    "\n",
    "# Iterate through unique labels and filter rows for the 98th and 99th files\n",
    "for label in df[\"label\"].unique():\n",
    "    label_df = df[df['label'] == label].iloc[-200:]\n",
    "    test = pd.concat([test, label_df], ignore_index=True)\n",
    "\n",
    "test.shape\n"
   ]
  },
  {
   "cell_type": "code",
   "execution_count": 68,
   "id": "4569d2eb-90ef-4a81-a903-3abb74061605",
   "metadata": {},
   "outputs": [
    {
     "data": {
      "text/plain": [
       "200"
      ]
     },
     "execution_count": 68,
     "metadata": {},
     "output_type": "execute_result"
    }
   ],
   "source": [
    "len(test[\"filename\"].unique())"
   ]
  },
  {
   "cell_type": "code",
   "execution_count": 69,
   "id": "8f5c3151-c4c4-4044-80e7-b02e95eb731c",
   "metadata": {},
   "outputs": [
    {
     "data": {
      "text/plain": [
       "filename\n",
       "blues.00080    10\n",
       "metal.00097    10\n",
       "metal.00087    10\n",
       "metal.00088    10\n",
       "metal.00089    10\n",
       "               ..\n",
       "disco.00089    10\n",
       "disco.00090    10\n",
       "disco.00091    10\n",
       "disco.00092    10\n",
       "rock.00099     10\n",
       "Name: count, Length: 200, dtype: int64"
      ]
     },
     "execution_count": 69,
     "metadata": {},
     "output_type": "execute_result"
    }
   ],
   "source": [
    "test[\"filename\"].value_counts()"
   ]
  },
  {
   "cell_type": "code",
   "execution_count": 70,
   "id": "c1b4ea5e-fc6a-4c2d-9f1e-dff705a4af16",
   "metadata": {},
   "outputs": [
    {
     "data": {
      "text/plain": [
       "label\n",
       "blues        200\n",
       "classical    200\n",
       "country      200\n",
       "disco        200\n",
       "hiphop       200\n",
       "jazz         200\n",
       "metal        200\n",
       "pop          200\n",
       "reggae       200\n",
       "rock         200\n",
       "Name: count, dtype: int64"
      ]
     },
     "execution_count": 70,
     "metadata": {},
     "output_type": "execute_result"
    }
   ],
   "source": [
    "test[\"label\"].value_counts()"
   ]
  },
  {
   "cell_type": "code",
   "execution_count": 71,
   "id": "5b6077f5-c6f0-4f83-9055-1e61de06f89f",
   "metadata": {},
   "outputs": [
    {
     "data": {
      "text/plain": [
       "(7990, 59)"
      ]
     },
     "execution_count": 71,
     "metadata": {},
     "output_type": "execute_result"
    }
   ],
   "source": [
    "import pandas as pd\n",
    "\n",
    "# Assuming you have the original 'df' and 'test_df' DataFrames\n",
    "\n",
    "# Merge the 'df' and 'test_df' DataFrames with the '_merge' indicator\n",
    "merged_df = df.merge(test, on=df.columns.to_list(), how='left', indicator=True)\n",
    "\n",
    "# Select rows that are only in the 'df' by filtering on the '_merge' column\n",
    "train_df = merged_df[merged_df['_merge'] == 'left_only'].drop(columns=['_merge'])\n",
    "\n",
    "# Reset the index of the 'train_df' if needed\n",
    "train_df.reset_index(drop=True, inplace=True)\n",
    "\n",
    "train_df.shape\n"
   ]
  },
  {
   "cell_type": "code",
   "execution_count": 72,
   "id": "f7977e43-ab2b-4034-afae-125e4adc50c8",
   "metadata": {},
   "outputs": [],
   "source": [
    "encoder = prp.LabelEncoder()\n",
    "X_train = train_df.drop([\"filename\", \"label\"], axis = 1)\n",
    "y_train = encoder.fit_transform(train_df[\"label\"])"
   ]
  },
  {
   "cell_type": "code",
   "execution_count": 73,
   "id": "1329bf71-6e79-4c79-953f-45b6e74dcb56",
   "metadata": {},
   "outputs": [],
   "source": [
    "X_test = test.drop([\"filename\", \"label\"], axis = 1)\n",
    "y_test = encoder.fit_transform(test[\"label\"])"
   ]
  },
  {
   "cell_type": "code",
   "execution_count": 74,
   "id": "f5050aeb-4892-4085-8bd4-0eec94529df7",
   "metadata": {},
   "outputs": [],
   "source": [
    "min_max_scaler = prp.MinMaxScaler()\n",
    "X_train_min_max_scaled = min_max_scaler.fit_transform(X_train)\n",
    "X_test_min_max_scaled = min_max_scaler.transform(X_test)"
   ]
  },
  {
   "cell_type": "code",
   "execution_count": 75,
   "id": "75165763-e13e-4e1c-9350-869fbbccd205",
   "metadata": {},
   "outputs": [
    {
     "data": {
      "text/plain": [
       "array([0, 0, 0, ..., 9, 9, 9])"
      ]
     },
     "execution_count": 75,
     "metadata": {},
     "output_type": "execute_result"
    }
   ],
   "source": [
    "y_test"
   ]
  },
  {
   "cell_type": "code",
   "execution_count": 76,
   "id": "aff35be8-34a9-4784-84d0-8fa8cfdebee3",
   "metadata": {},
   "outputs": [
    {
     "name": "stdout",
     "output_type": "stream",
     "text": [
      "xgb_no_scale_no_leak Accuracy: 0.4725 \n",
      "\n"
     ]
    }
   ],
   "source": [
    "model_assess(\"xgb_no_scale_no_leak\", model, X_train, X_test)"
   ]
  },
  {
   "cell_type": "code",
   "execution_count": null,
   "id": "0c03494f-87d7-47e8-853a-5d2c4fab5494",
   "metadata": {},
   "outputs": [],
   "source": [
    "model_assess(\"xgb_min_max_scale_no_leak\", model, X_train_min_max_scaled, X_test_min_max_scaled)"
   ]
  },
  {
   "cell_type": "code",
   "execution_count": null,
   "id": "3476f3e0-d2a3-4717-9467-2e0d039510bf",
   "metadata": {},
   "outputs": [],
   "source": [
    "target"
   ]
  }
 ],
 "metadata": {
  "kernelspec": {
   "display_name": "Python 3 (ipykernel)",
   "language": "python",
   "name": "python3"
  },
  "language_info": {
   "codemirror_mode": {
    "name": "ipython",
    "version": 3
   },
   "file_extension": ".py",
   "mimetype": "text/x-python",
   "name": "python",
   "nbconvert_exporter": "python",
   "pygments_lexer": "ipython3",
   "version": "3.10.8"
  }
 },
 "nbformat": 4,
 "nbformat_minor": 5
}
