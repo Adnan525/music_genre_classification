{
 "cells": [
  {
   "cell_type": "markdown",
   "id": "80983b12",
   "metadata": {},
   "source": [
    "Loading all the necessary libraries for loading, exploring, and modeling the data."
   ]
  },
  {
   "cell_type": "code",
   "execution_count": 18,
   "id": "be0ded3b",
   "metadata": {},
   "outputs": [],
   "source": [
    "#Data manipulation libraries\n",
    "import numpy as np\n",
    "import pandas as pd\n",
    "#Data visualization\n",
    "import seaborn as sns\n",
    "import matplotlib.pyplot as plt\n",
    "#Data transformation\n",
    "from sklearn.preprocessing import StandardScaler, LabelEncoder, MinMaxScaler\n",
    "from sklearn.decomposition import PCA\n",
    "#Data modeling\n",
    "from sklearn.model_selection import train_test_split, KFold, cross_val_score\n",
    "from sklearn.linear_model import LogisticRegression\n",
    "from sklearn.neighbors import KNeighborsClassifier\n",
    "from sklearn.svm import SVC\n",
    "from sklearn.ensemble import RandomForestClassifier\n",
    "#Data evaluation\n",
    "from sklearn.metrics import confusion_matrix, classification_report, accuracy_score"
   ]
  },
  {
   "cell_type": "code",
   "execution_count": 19,
   "id": "d94d22bf",
   "metadata": {},
   "outputs": [
    {
     "ename": "FileNotFoundError",
     "evalue": "[Errno 2] No such file or directory: 'data/features_30_sec.csv'",
     "output_type": "error",
     "traceback": [
      "\u001b[0;31m---------------------------------------------------------------------------\u001b[0m",
      "\u001b[0;31mFileNotFoundError\u001b[0m                         Traceback (most recent call last)",
      "Cell \u001b[0;32mIn[19], line 2\u001b[0m\n\u001b[1;32m      1\u001b[0m \u001b[38;5;66;03m# Data import, kindly put the correct directory\u001b[39;00m\n\u001b[0;32m----> 2\u001b[0m dataset \u001b[38;5;241m=\u001b[39m \u001b[43mpd\u001b[49m\u001b[38;5;241;43m.\u001b[39;49m\u001b[43mread_csv\u001b[49m\u001b[43m(\u001b[49m\u001b[38;5;124;43m\"\u001b[39;49m\u001b[38;5;124;43mdata/features_30_sec.csv\u001b[39;49m\u001b[38;5;124;43m\"\u001b[39;49m\u001b[43m)\u001b[49m\n",
      "File \u001b[0;32m~/.local/lib/python3.10/site-packages/pandas/io/parsers/readers.py:948\u001b[0m, in \u001b[0;36mread_csv\u001b[0;34m(filepath_or_buffer, sep, delimiter, header, names, index_col, usecols, dtype, engine, converters, true_values, false_values, skipinitialspace, skiprows, skipfooter, nrows, na_values, keep_default_na, na_filter, verbose, skip_blank_lines, parse_dates, infer_datetime_format, keep_date_col, date_parser, date_format, dayfirst, cache_dates, iterator, chunksize, compression, thousands, decimal, lineterminator, quotechar, quoting, doublequote, escapechar, comment, encoding, encoding_errors, dialect, on_bad_lines, delim_whitespace, low_memory, memory_map, float_precision, storage_options, dtype_backend)\u001b[0m\n\u001b[1;32m    935\u001b[0m kwds_defaults \u001b[38;5;241m=\u001b[39m _refine_defaults_read(\n\u001b[1;32m    936\u001b[0m     dialect,\n\u001b[1;32m    937\u001b[0m     delimiter,\n\u001b[0;32m   (...)\u001b[0m\n\u001b[1;32m    944\u001b[0m     dtype_backend\u001b[38;5;241m=\u001b[39mdtype_backend,\n\u001b[1;32m    945\u001b[0m )\n\u001b[1;32m    946\u001b[0m kwds\u001b[38;5;241m.\u001b[39mupdate(kwds_defaults)\n\u001b[0;32m--> 948\u001b[0m \u001b[38;5;28;01mreturn\u001b[39;00m \u001b[43m_read\u001b[49m\u001b[43m(\u001b[49m\u001b[43mfilepath_or_buffer\u001b[49m\u001b[43m,\u001b[49m\u001b[43m \u001b[49m\u001b[43mkwds\u001b[49m\u001b[43m)\u001b[49m\n",
      "File \u001b[0;32m~/.local/lib/python3.10/site-packages/pandas/io/parsers/readers.py:611\u001b[0m, in \u001b[0;36m_read\u001b[0;34m(filepath_or_buffer, kwds)\u001b[0m\n\u001b[1;32m    608\u001b[0m _validate_names(kwds\u001b[38;5;241m.\u001b[39mget(\u001b[38;5;124m\"\u001b[39m\u001b[38;5;124mnames\u001b[39m\u001b[38;5;124m\"\u001b[39m, \u001b[38;5;28;01mNone\u001b[39;00m))\n\u001b[1;32m    610\u001b[0m \u001b[38;5;66;03m# Create the parser.\u001b[39;00m\n\u001b[0;32m--> 611\u001b[0m parser \u001b[38;5;241m=\u001b[39m \u001b[43mTextFileReader\u001b[49m\u001b[43m(\u001b[49m\u001b[43mfilepath_or_buffer\u001b[49m\u001b[43m,\u001b[49m\u001b[43m \u001b[49m\u001b[38;5;241;43m*\u001b[39;49m\u001b[38;5;241;43m*\u001b[39;49m\u001b[43mkwds\u001b[49m\u001b[43m)\u001b[49m\n\u001b[1;32m    613\u001b[0m \u001b[38;5;28;01mif\u001b[39;00m chunksize \u001b[38;5;129;01mor\u001b[39;00m iterator:\n\u001b[1;32m    614\u001b[0m     \u001b[38;5;28;01mreturn\u001b[39;00m parser\n",
      "File \u001b[0;32m~/.local/lib/python3.10/site-packages/pandas/io/parsers/readers.py:1448\u001b[0m, in \u001b[0;36mTextFileReader.__init__\u001b[0;34m(self, f, engine, **kwds)\u001b[0m\n\u001b[1;32m   1445\u001b[0m     \u001b[38;5;28mself\u001b[39m\u001b[38;5;241m.\u001b[39moptions[\u001b[38;5;124m\"\u001b[39m\u001b[38;5;124mhas_index_names\u001b[39m\u001b[38;5;124m\"\u001b[39m] \u001b[38;5;241m=\u001b[39m kwds[\u001b[38;5;124m\"\u001b[39m\u001b[38;5;124mhas_index_names\u001b[39m\u001b[38;5;124m\"\u001b[39m]\n\u001b[1;32m   1447\u001b[0m \u001b[38;5;28mself\u001b[39m\u001b[38;5;241m.\u001b[39mhandles: IOHandles \u001b[38;5;241m|\u001b[39m \u001b[38;5;28;01mNone\u001b[39;00m \u001b[38;5;241m=\u001b[39m \u001b[38;5;28;01mNone\u001b[39;00m\n\u001b[0;32m-> 1448\u001b[0m \u001b[38;5;28mself\u001b[39m\u001b[38;5;241m.\u001b[39m_engine \u001b[38;5;241m=\u001b[39m \u001b[38;5;28;43mself\u001b[39;49m\u001b[38;5;241;43m.\u001b[39;49m\u001b[43m_make_engine\u001b[49m\u001b[43m(\u001b[49m\u001b[43mf\u001b[49m\u001b[43m,\u001b[49m\u001b[43m \u001b[49m\u001b[38;5;28;43mself\u001b[39;49m\u001b[38;5;241;43m.\u001b[39;49m\u001b[43mengine\u001b[49m\u001b[43m)\u001b[49m\n",
      "File \u001b[0;32m~/.local/lib/python3.10/site-packages/pandas/io/parsers/readers.py:1705\u001b[0m, in \u001b[0;36mTextFileReader._make_engine\u001b[0;34m(self, f, engine)\u001b[0m\n\u001b[1;32m   1703\u001b[0m     \u001b[38;5;28;01mif\u001b[39;00m \u001b[38;5;124m\"\u001b[39m\u001b[38;5;124mb\u001b[39m\u001b[38;5;124m\"\u001b[39m \u001b[38;5;129;01mnot\u001b[39;00m \u001b[38;5;129;01min\u001b[39;00m mode:\n\u001b[1;32m   1704\u001b[0m         mode \u001b[38;5;241m+\u001b[39m\u001b[38;5;241m=\u001b[39m \u001b[38;5;124m\"\u001b[39m\u001b[38;5;124mb\u001b[39m\u001b[38;5;124m\"\u001b[39m\n\u001b[0;32m-> 1705\u001b[0m \u001b[38;5;28mself\u001b[39m\u001b[38;5;241m.\u001b[39mhandles \u001b[38;5;241m=\u001b[39m \u001b[43mget_handle\u001b[49m\u001b[43m(\u001b[49m\n\u001b[1;32m   1706\u001b[0m \u001b[43m    \u001b[49m\u001b[43mf\u001b[49m\u001b[43m,\u001b[49m\n\u001b[1;32m   1707\u001b[0m \u001b[43m    \u001b[49m\u001b[43mmode\u001b[49m\u001b[43m,\u001b[49m\n\u001b[1;32m   1708\u001b[0m \u001b[43m    \u001b[49m\u001b[43mencoding\u001b[49m\u001b[38;5;241;43m=\u001b[39;49m\u001b[38;5;28;43mself\u001b[39;49m\u001b[38;5;241;43m.\u001b[39;49m\u001b[43moptions\u001b[49m\u001b[38;5;241;43m.\u001b[39;49m\u001b[43mget\u001b[49m\u001b[43m(\u001b[49m\u001b[38;5;124;43m\"\u001b[39;49m\u001b[38;5;124;43mencoding\u001b[39;49m\u001b[38;5;124;43m\"\u001b[39;49m\u001b[43m,\u001b[49m\u001b[43m \u001b[49m\u001b[38;5;28;43;01mNone\u001b[39;49;00m\u001b[43m)\u001b[49m\u001b[43m,\u001b[49m\n\u001b[1;32m   1709\u001b[0m \u001b[43m    \u001b[49m\u001b[43mcompression\u001b[49m\u001b[38;5;241;43m=\u001b[39;49m\u001b[38;5;28;43mself\u001b[39;49m\u001b[38;5;241;43m.\u001b[39;49m\u001b[43moptions\u001b[49m\u001b[38;5;241;43m.\u001b[39;49m\u001b[43mget\u001b[49m\u001b[43m(\u001b[49m\u001b[38;5;124;43m\"\u001b[39;49m\u001b[38;5;124;43mcompression\u001b[39;49m\u001b[38;5;124;43m\"\u001b[39;49m\u001b[43m,\u001b[49m\u001b[43m \u001b[49m\u001b[38;5;28;43;01mNone\u001b[39;49;00m\u001b[43m)\u001b[49m\u001b[43m,\u001b[49m\n\u001b[1;32m   1710\u001b[0m \u001b[43m    \u001b[49m\u001b[43mmemory_map\u001b[49m\u001b[38;5;241;43m=\u001b[39;49m\u001b[38;5;28;43mself\u001b[39;49m\u001b[38;5;241;43m.\u001b[39;49m\u001b[43moptions\u001b[49m\u001b[38;5;241;43m.\u001b[39;49m\u001b[43mget\u001b[49m\u001b[43m(\u001b[49m\u001b[38;5;124;43m\"\u001b[39;49m\u001b[38;5;124;43mmemory_map\u001b[39;49m\u001b[38;5;124;43m\"\u001b[39;49m\u001b[43m,\u001b[49m\u001b[43m \u001b[49m\u001b[38;5;28;43;01mFalse\u001b[39;49;00m\u001b[43m)\u001b[49m\u001b[43m,\u001b[49m\n\u001b[1;32m   1711\u001b[0m \u001b[43m    \u001b[49m\u001b[43mis_text\u001b[49m\u001b[38;5;241;43m=\u001b[39;49m\u001b[43mis_text\u001b[49m\u001b[43m,\u001b[49m\n\u001b[1;32m   1712\u001b[0m \u001b[43m    \u001b[49m\u001b[43merrors\u001b[49m\u001b[38;5;241;43m=\u001b[39;49m\u001b[38;5;28;43mself\u001b[39;49m\u001b[38;5;241;43m.\u001b[39;49m\u001b[43moptions\u001b[49m\u001b[38;5;241;43m.\u001b[39;49m\u001b[43mget\u001b[49m\u001b[43m(\u001b[49m\u001b[38;5;124;43m\"\u001b[39;49m\u001b[38;5;124;43mencoding_errors\u001b[39;49m\u001b[38;5;124;43m\"\u001b[39;49m\u001b[43m,\u001b[49m\u001b[43m \u001b[49m\u001b[38;5;124;43m\"\u001b[39;49m\u001b[38;5;124;43mstrict\u001b[39;49m\u001b[38;5;124;43m\"\u001b[39;49m\u001b[43m)\u001b[49m\u001b[43m,\u001b[49m\n\u001b[1;32m   1713\u001b[0m \u001b[43m    \u001b[49m\u001b[43mstorage_options\u001b[49m\u001b[38;5;241;43m=\u001b[39;49m\u001b[38;5;28;43mself\u001b[39;49m\u001b[38;5;241;43m.\u001b[39;49m\u001b[43moptions\u001b[49m\u001b[38;5;241;43m.\u001b[39;49m\u001b[43mget\u001b[49m\u001b[43m(\u001b[49m\u001b[38;5;124;43m\"\u001b[39;49m\u001b[38;5;124;43mstorage_options\u001b[39;49m\u001b[38;5;124;43m\"\u001b[39;49m\u001b[43m,\u001b[49m\u001b[43m \u001b[49m\u001b[38;5;28;43;01mNone\u001b[39;49;00m\u001b[43m)\u001b[49m\u001b[43m,\u001b[49m\n\u001b[1;32m   1714\u001b[0m \u001b[43m\u001b[49m\u001b[43m)\u001b[49m\n\u001b[1;32m   1715\u001b[0m \u001b[38;5;28;01massert\u001b[39;00m \u001b[38;5;28mself\u001b[39m\u001b[38;5;241m.\u001b[39mhandles \u001b[38;5;129;01mis\u001b[39;00m \u001b[38;5;129;01mnot\u001b[39;00m \u001b[38;5;28;01mNone\u001b[39;00m\n\u001b[1;32m   1716\u001b[0m f \u001b[38;5;241m=\u001b[39m \u001b[38;5;28mself\u001b[39m\u001b[38;5;241m.\u001b[39mhandles\u001b[38;5;241m.\u001b[39mhandle\n",
      "File \u001b[0;32m~/.local/lib/python3.10/site-packages/pandas/io/common.py:863\u001b[0m, in \u001b[0;36mget_handle\u001b[0;34m(path_or_buf, mode, encoding, compression, memory_map, is_text, errors, storage_options)\u001b[0m\n\u001b[1;32m    858\u001b[0m \u001b[38;5;28;01melif\u001b[39;00m \u001b[38;5;28misinstance\u001b[39m(handle, \u001b[38;5;28mstr\u001b[39m):\n\u001b[1;32m    859\u001b[0m     \u001b[38;5;66;03m# Check whether the filename is to be opened in binary mode.\u001b[39;00m\n\u001b[1;32m    860\u001b[0m     \u001b[38;5;66;03m# Binary mode does not support 'encoding' and 'newline'.\u001b[39;00m\n\u001b[1;32m    861\u001b[0m     \u001b[38;5;28;01mif\u001b[39;00m ioargs\u001b[38;5;241m.\u001b[39mencoding \u001b[38;5;129;01mand\u001b[39;00m \u001b[38;5;124m\"\u001b[39m\u001b[38;5;124mb\u001b[39m\u001b[38;5;124m\"\u001b[39m \u001b[38;5;129;01mnot\u001b[39;00m \u001b[38;5;129;01min\u001b[39;00m ioargs\u001b[38;5;241m.\u001b[39mmode:\n\u001b[1;32m    862\u001b[0m         \u001b[38;5;66;03m# Encoding\u001b[39;00m\n\u001b[0;32m--> 863\u001b[0m         handle \u001b[38;5;241m=\u001b[39m \u001b[38;5;28;43mopen\u001b[39;49m\u001b[43m(\u001b[49m\n\u001b[1;32m    864\u001b[0m \u001b[43m            \u001b[49m\u001b[43mhandle\u001b[49m\u001b[43m,\u001b[49m\n\u001b[1;32m    865\u001b[0m \u001b[43m            \u001b[49m\u001b[43mioargs\u001b[49m\u001b[38;5;241;43m.\u001b[39;49m\u001b[43mmode\u001b[49m\u001b[43m,\u001b[49m\n\u001b[1;32m    866\u001b[0m \u001b[43m            \u001b[49m\u001b[43mencoding\u001b[49m\u001b[38;5;241;43m=\u001b[39;49m\u001b[43mioargs\u001b[49m\u001b[38;5;241;43m.\u001b[39;49m\u001b[43mencoding\u001b[49m\u001b[43m,\u001b[49m\n\u001b[1;32m    867\u001b[0m \u001b[43m            \u001b[49m\u001b[43merrors\u001b[49m\u001b[38;5;241;43m=\u001b[39;49m\u001b[43merrors\u001b[49m\u001b[43m,\u001b[49m\n\u001b[1;32m    868\u001b[0m \u001b[43m            \u001b[49m\u001b[43mnewline\u001b[49m\u001b[38;5;241;43m=\u001b[39;49m\u001b[38;5;124;43m\"\u001b[39;49m\u001b[38;5;124;43m\"\u001b[39;49m\u001b[43m,\u001b[49m\n\u001b[1;32m    869\u001b[0m \u001b[43m        \u001b[49m\u001b[43m)\u001b[49m\n\u001b[1;32m    870\u001b[0m     \u001b[38;5;28;01melse\u001b[39;00m:\n\u001b[1;32m    871\u001b[0m         \u001b[38;5;66;03m# Binary mode\u001b[39;00m\n\u001b[1;32m    872\u001b[0m         handle \u001b[38;5;241m=\u001b[39m \u001b[38;5;28mopen\u001b[39m(handle, ioargs\u001b[38;5;241m.\u001b[39mmode)\n",
      "\u001b[0;31mFileNotFoundError\u001b[0m: [Errno 2] No such file or directory: 'data/features_30_sec.csv'"
     ]
    }
   ],
   "source": [
    "# Data import, kindly put the correct directory\n",
    "dataset = pd.read_csv(\"data/features_30_sec.csv\")"
   ]
  },
  {
   "cell_type": "code",
   "execution_count": 42,
   "id": "45a8f934-0a91-45ec-9910-4a808494797a",
   "metadata": {},
   "outputs": [],
   "source": [
    "import warnings\n",
    "warnings.filterwarnings(\"ignore\")"
   ]
  },
  {
   "cell_type": "code",
   "execution_count": 32,
   "id": "ac0352e5-eebb-4c55-a164-e4f12dc170f6",
   "metadata": {},
   "outputs": [],
   "source": [
    "import pandas as pd\n",
    "import numpy as np\n",
    "import matplotlib.pyplot as plt\n",
    "import seaborn as sns\n",
    "from sklearn.model_selection import train_test_split\n",
    "from sklearn import preprocessing as prp"
   ]
  },
  {
   "cell_type": "code",
   "execution_count": 21,
   "id": "32945f03-d2b9-41c6-8f96-5d2eb512fdd7",
   "metadata": {},
   "outputs": [],
   "source": [
    "dataset = pd.read_csv(\"features_30_sec.csv\")"
   ]
  },
  {
   "cell_type": "code",
   "execution_count": 22,
   "id": "e7bcd5d5",
   "metadata": {},
   "outputs": [
    {
     "data": {
      "text/html": [
       "<div>\n",
       "<style scoped>\n",
       "    .dataframe tbody tr th:only-of-type {\n",
       "        vertical-align: middle;\n",
       "    }\n",
       "\n",
       "    .dataframe tbody tr th {\n",
       "        vertical-align: top;\n",
       "    }\n",
       "\n",
       "    .dataframe thead th {\n",
       "        text-align: right;\n",
       "    }\n",
       "</style>\n",
       "<table border=\"1\" class=\"dataframe\">\n",
       "  <thead>\n",
       "    <tr style=\"text-align: right;\">\n",
       "      <th></th>\n",
       "      <th>filename</th>\n",
       "      <th>length</th>\n",
       "      <th>chroma_stft_mean</th>\n",
       "      <th>chroma_stft_var</th>\n",
       "      <th>rms_mean</th>\n",
       "      <th>rms_var</th>\n",
       "      <th>spectral_centroid_mean</th>\n",
       "      <th>spectral_centroid_var</th>\n",
       "      <th>spectral_bandwidth_mean</th>\n",
       "      <th>spectral_bandwidth_var</th>\n",
       "      <th>...</th>\n",
       "      <th>mfcc16_var</th>\n",
       "      <th>mfcc17_mean</th>\n",
       "      <th>mfcc17_var</th>\n",
       "      <th>mfcc18_mean</th>\n",
       "      <th>mfcc18_var</th>\n",
       "      <th>mfcc19_mean</th>\n",
       "      <th>mfcc19_var</th>\n",
       "      <th>mfcc20_mean</th>\n",
       "      <th>mfcc20_var</th>\n",
       "      <th>label</th>\n",
       "    </tr>\n",
       "  </thead>\n",
       "  <tbody>\n",
       "    <tr>\n",
       "      <th>0</th>\n",
       "      <td>blues.00000.wav</td>\n",
       "      <td>661794</td>\n",
       "      <td>0.350088</td>\n",
       "      <td>0.088757</td>\n",
       "      <td>0.130228</td>\n",
       "      <td>0.002827</td>\n",
       "      <td>1784.165850</td>\n",
       "      <td>129774.064525</td>\n",
       "      <td>2002.449060</td>\n",
       "      <td>85882.761315</td>\n",
       "      <td>...</td>\n",
       "      <td>52.420910</td>\n",
       "      <td>-1.690215</td>\n",
       "      <td>36.524071</td>\n",
       "      <td>-0.408979</td>\n",
       "      <td>41.597103</td>\n",
       "      <td>-2.303523</td>\n",
       "      <td>55.062923</td>\n",
       "      <td>1.221291</td>\n",
       "      <td>46.936035</td>\n",
       "      <td>blues</td>\n",
       "    </tr>\n",
       "    <tr>\n",
       "      <th>1</th>\n",
       "      <td>blues.00001.wav</td>\n",
       "      <td>661794</td>\n",
       "      <td>0.340914</td>\n",
       "      <td>0.094980</td>\n",
       "      <td>0.095948</td>\n",
       "      <td>0.002373</td>\n",
       "      <td>1530.176679</td>\n",
       "      <td>375850.073649</td>\n",
       "      <td>2039.036516</td>\n",
       "      <td>213843.755497</td>\n",
       "      <td>...</td>\n",
       "      <td>55.356403</td>\n",
       "      <td>-0.731125</td>\n",
       "      <td>60.314529</td>\n",
       "      <td>0.295073</td>\n",
       "      <td>48.120598</td>\n",
       "      <td>-0.283518</td>\n",
       "      <td>51.106190</td>\n",
       "      <td>0.531217</td>\n",
       "      <td>45.786282</td>\n",
       "      <td>blues</td>\n",
       "    </tr>\n",
       "    <tr>\n",
       "      <th>2</th>\n",
       "      <td>blues.00002.wav</td>\n",
       "      <td>661794</td>\n",
       "      <td>0.363637</td>\n",
       "      <td>0.085275</td>\n",
       "      <td>0.175570</td>\n",
       "      <td>0.002746</td>\n",
       "      <td>1552.811865</td>\n",
       "      <td>156467.643368</td>\n",
       "      <td>1747.702312</td>\n",
       "      <td>76254.192257</td>\n",
       "      <td>...</td>\n",
       "      <td>40.598766</td>\n",
       "      <td>-7.729093</td>\n",
       "      <td>47.639427</td>\n",
       "      <td>-1.816407</td>\n",
       "      <td>52.382141</td>\n",
       "      <td>-3.439720</td>\n",
       "      <td>46.639660</td>\n",
       "      <td>-2.231258</td>\n",
       "      <td>30.573025</td>\n",
       "      <td>blues</td>\n",
       "    </tr>\n",
       "    <tr>\n",
       "      <th>3</th>\n",
       "      <td>blues.00003.wav</td>\n",
       "      <td>661794</td>\n",
       "      <td>0.404785</td>\n",
       "      <td>0.093999</td>\n",
       "      <td>0.141093</td>\n",
       "      <td>0.006346</td>\n",
       "      <td>1070.106615</td>\n",
       "      <td>184355.942417</td>\n",
       "      <td>1596.412872</td>\n",
       "      <td>166441.494769</td>\n",
       "      <td>...</td>\n",
       "      <td>44.427753</td>\n",
       "      <td>-3.319597</td>\n",
       "      <td>50.206673</td>\n",
       "      <td>0.636965</td>\n",
       "      <td>37.319130</td>\n",
       "      <td>-0.619121</td>\n",
       "      <td>37.259739</td>\n",
       "      <td>-3.407448</td>\n",
       "      <td>31.949339</td>\n",
       "      <td>blues</td>\n",
       "    </tr>\n",
       "    <tr>\n",
       "      <th>4</th>\n",
       "      <td>blues.00004.wav</td>\n",
       "      <td>661794</td>\n",
       "      <td>0.308526</td>\n",
       "      <td>0.087841</td>\n",
       "      <td>0.091529</td>\n",
       "      <td>0.002303</td>\n",
       "      <td>1835.004266</td>\n",
       "      <td>343399.939274</td>\n",
       "      <td>1748.172116</td>\n",
       "      <td>88445.209036</td>\n",
       "      <td>...</td>\n",
       "      <td>86.099236</td>\n",
       "      <td>-5.454034</td>\n",
       "      <td>75.269707</td>\n",
       "      <td>-0.916874</td>\n",
       "      <td>53.613918</td>\n",
       "      <td>-4.404827</td>\n",
       "      <td>62.910812</td>\n",
       "      <td>-11.703234</td>\n",
       "      <td>55.195160</td>\n",
       "      <td>blues</td>\n",
       "    </tr>\n",
       "  </tbody>\n",
       "</table>\n",
       "<p>5 rows × 60 columns</p>\n",
       "</div>"
      ],
      "text/plain": [
       "          filename  length  chroma_stft_mean  chroma_stft_var  rms_mean  \\\n",
       "0  blues.00000.wav  661794          0.350088         0.088757  0.130228   \n",
       "1  blues.00001.wav  661794          0.340914         0.094980  0.095948   \n",
       "2  blues.00002.wav  661794          0.363637         0.085275  0.175570   \n",
       "3  blues.00003.wav  661794          0.404785         0.093999  0.141093   \n",
       "4  blues.00004.wav  661794          0.308526         0.087841  0.091529   \n",
       "\n",
       "    rms_var  spectral_centroid_mean  spectral_centroid_var  \\\n",
       "0  0.002827             1784.165850          129774.064525   \n",
       "1  0.002373             1530.176679          375850.073649   \n",
       "2  0.002746             1552.811865          156467.643368   \n",
       "3  0.006346             1070.106615          184355.942417   \n",
       "4  0.002303             1835.004266          343399.939274   \n",
       "\n",
       "   spectral_bandwidth_mean  spectral_bandwidth_var  ...  mfcc16_var  \\\n",
       "0              2002.449060            85882.761315  ...   52.420910   \n",
       "1              2039.036516           213843.755497  ...   55.356403   \n",
       "2              1747.702312            76254.192257  ...   40.598766   \n",
       "3              1596.412872           166441.494769  ...   44.427753   \n",
       "4              1748.172116            88445.209036  ...   86.099236   \n",
       "\n",
       "   mfcc17_mean  mfcc17_var  mfcc18_mean  mfcc18_var  mfcc19_mean  mfcc19_var  \\\n",
       "0    -1.690215   36.524071    -0.408979   41.597103    -2.303523   55.062923   \n",
       "1    -0.731125   60.314529     0.295073   48.120598    -0.283518   51.106190   \n",
       "2    -7.729093   47.639427    -1.816407   52.382141    -3.439720   46.639660   \n",
       "3    -3.319597   50.206673     0.636965   37.319130    -0.619121   37.259739   \n",
       "4    -5.454034   75.269707    -0.916874   53.613918    -4.404827   62.910812   \n",
       "\n",
       "   mfcc20_mean  mfcc20_var  label  \n",
       "0     1.221291   46.936035  blues  \n",
       "1     0.531217   45.786282  blues  \n",
       "2    -2.231258   30.573025  blues  \n",
       "3    -3.407448   31.949339  blues  \n",
       "4   -11.703234   55.195160  blues  \n",
       "\n",
       "[5 rows x 60 columns]"
      ]
     },
     "execution_count": 22,
     "metadata": {},
     "output_type": "execute_result"
    }
   ],
   "source": [
    "#Overview\n",
    "dataset.head()"
   ]
  },
  {
   "cell_type": "code",
   "execution_count": 23,
   "id": "93a92e8a",
   "metadata": {},
   "outputs": [
    {
     "data": {
      "text/plain": [
       "(1000, 60)"
      ]
     },
     "execution_count": 23,
     "metadata": {},
     "output_type": "execute_result"
    }
   ],
   "source": [
    "#Dimentionality\n",
    "dataset.shape"
   ]
  },
  {
   "cell_type": "code",
   "execution_count": 24,
   "id": "4618dc45",
   "metadata": {},
   "outputs": [
    {
     "data": {
      "text/plain": [
       "(1000, 59)"
      ]
     },
     "execution_count": 24,
     "metadata": {},
     "output_type": "execute_result"
    }
   ],
   "source": [
    "#Check for NA\n",
    "dataset.isna().sum()\n",
    "dataset = dataset.dropna() #discard\n",
    "\n",
    "#Delete filename\n",
    "dataset = dataset.drop('filename', axis=1)\n",
    "dataset.shape"
   ]
  },
  {
   "cell_type": "code",
   "execution_count": 25,
   "id": "93777311",
   "metadata": {},
   "outputs": [
    {
     "data": {
      "text/plain": [
       "Text(0, 0.5, 'Value')"
      ]
     },
     "execution_count": 25,
     "metadata": {},
     "output_type": "execute_result"
    },
    {
     "data": {
      "image/png": "[encoded data removed]",
      "text/plain": [
       "<Figure size 800x600 with 1 Axes>"
      ]
     },
     "metadata": {},
     "output_type": "display_data"
    }
   ],
   "source": [
    "plt.figure(figsize=(8, 6))  #figure size\n",
    "\n",
    "# box plot\n",
    "sns.set_style(\"whitegrid\")  \n",
    "sns.boxplot(x='length', data=dataset, color='skyblue', width=0.4)\n",
    "plt.title('Box Plot for Data') \n",
    "plt.xlabel('Length')  \n",
    "plt.ylabel('Value')  "
   ]
  },
  {
   "cell_type": "code",
   "execution_count": 26,
   "id": "d918c3f6",
   "metadata": {},
   "outputs": [
    {
     "data": {
      "text/plain": [
       "(1000, 58)"
      ]
     },
     "execution_count": 26,
     "metadata": {},
     "output_type": "execute_result"
    }
   ],
   "source": [
    "# creating X ?\n",
    "dataset = dataset.drop('length', axis=1)\n",
    "dataset.shape"
   ]
  },
  {
   "cell_type": "code",
   "execution_count": 27,
   "id": "67d9defc",
   "metadata": {},
   "outputs": [
    {
     "data": {
      "text/html": [
       "<div>\n",
       "<style scoped>\n",
       "    .dataframe tbody tr th:only-of-type {\n",
       "        vertical-align: middle;\n",
       "    }\n",
       "\n",
       "    .dataframe tbody tr th {\n",
       "        vertical-align: top;\n",
       "    }\n",
       "\n",
       "    .dataframe thead th {\n",
       "        text-align: right;\n",
       "    }\n",
       "</style>\n",
       "<table border=\"1\" class=\"dataframe\">\n",
       "  <thead>\n",
       "    <tr style=\"text-align: right;\">\n",
       "      <th></th>\n",
       "      <th>chroma_stft_mean</th>\n",
       "      <th>chroma_stft_var</th>\n",
       "      <th>rms_mean</th>\n",
       "      <th>rms_var</th>\n",
       "      <th>spectral_centroid_mean</th>\n",
       "      <th>spectral_centroid_var</th>\n",
       "      <th>spectral_bandwidth_mean</th>\n",
       "      <th>spectral_bandwidth_var</th>\n",
       "      <th>rolloff_mean</th>\n",
       "      <th>rolloff_var</th>\n",
       "      <th>...</th>\n",
       "      <th>mfcc16_mean</th>\n",
       "      <th>mfcc16_var</th>\n",
       "      <th>mfcc17_mean</th>\n",
       "      <th>mfcc17_var</th>\n",
       "      <th>mfcc18_mean</th>\n",
       "      <th>mfcc18_var</th>\n",
       "      <th>mfcc19_mean</th>\n",
       "      <th>mfcc19_var</th>\n",
       "      <th>mfcc20_mean</th>\n",
       "      <th>mfcc20_var</th>\n",
       "    </tr>\n",
       "  </thead>\n",
       "  <tbody>\n",
       "    <tr>\n",
       "      <th>count</th>\n",
       "      <td>1000.000000</td>\n",
       "      <td>1000.000000</td>\n",
       "      <td>1000.000000</td>\n",
       "      <td>1000.000000</td>\n",
       "      <td>1000.000000</td>\n",
       "      <td>1.000000e+03</td>\n",
       "      <td>1000.000000</td>\n",
       "      <td>1000.000000</td>\n",
       "      <td>1000.000000</td>\n",
       "      <td>1.000000e+03</td>\n",
       "      <td>...</td>\n",
       "      <td>1000.000000</td>\n",
       "      <td>1000.000000</td>\n",
       "      <td>1000.000000</td>\n",
       "      <td>1000.000000</td>\n",
       "      <td>1000.000000</td>\n",
       "      <td>1000.000000</td>\n",
       "      <td>1000.000000</td>\n",
       "      <td>1000.000000</td>\n",
       "      <td>1000.000000</td>\n",
       "      <td>1000.000000</td>\n",
       "    </tr>\n",
       "    <tr>\n",
       "      <th>mean</th>\n",
       "      <td>0.378682</td>\n",
       "      <td>0.086340</td>\n",
       "      <td>0.130930</td>\n",
       "      <td>0.003051</td>\n",
       "      <td>2201.780898</td>\n",
       "      <td>4.696916e+05</td>\n",
       "      <td>2242.541070</td>\n",
       "      <td>137079.155165</td>\n",
       "      <td>4571.549304</td>\n",
       "      <td>1.844345e+06</td>\n",
       "      <td>...</td>\n",
       "      <td>1.148144</td>\n",
       "      <td>60.730958</td>\n",
       "      <td>-3.966028</td>\n",
       "      <td>62.633624</td>\n",
       "      <td>0.507696</td>\n",
       "      <td>63.712586</td>\n",
       "      <td>-2.328761</td>\n",
       "      <td>66.231930</td>\n",
       "      <td>-1.095348</td>\n",
       "      <td>70.126096</td>\n",
       "    </tr>\n",
       "    <tr>\n",
       "      <th>std</th>\n",
       "      <td>0.081705</td>\n",
       "      <td>0.007735</td>\n",
       "      <td>0.065683</td>\n",
       "      <td>0.003634</td>\n",
       "      <td>715.960600</td>\n",
       "      <td>4.008995e+05</td>\n",
       "      <td>526.316473</td>\n",
       "      <td>96455.666326</td>\n",
       "      <td>1574.791602</td>\n",
       "      <td>1.425085e+06</td>\n",
       "      <td>...</td>\n",
       "      <td>4.578948</td>\n",
       "      <td>33.781951</td>\n",
       "      <td>4.549697</td>\n",
       "      <td>33.479172</td>\n",
       "      <td>3.869105</td>\n",
       "      <td>34.401977</td>\n",
       "      <td>3.755957</td>\n",
       "      <td>37.174631</td>\n",
       "      <td>3.837007</td>\n",
       "      <td>45.228512</td>\n",
       "    </tr>\n",
       "    <tr>\n",
       "      <th>min</th>\n",
       "      <td>0.171939</td>\n",
       "      <td>0.044555</td>\n",
       "      <td>0.005276</td>\n",
       "      <td>0.000004</td>\n",
       "      <td>570.040355</td>\n",
       "      <td>7.911251e+03</td>\n",
       "      <td>898.066208</td>\n",
       "      <td>10787.185064</td>\n",
       "      <td>749.140636</td>\n",
       "      <td>1.468612e+04</td>\n",
       "      <td>...</td>\n",
       "      <td>-15.693844</td>\n",
       "      <td>9.169314</td>\n",
       "      <td>-17.234728</td>\n",
       "      <td>13.931521</td>\n",
       "      <td>-11.963694</td>\n",
       "      <td>15.420555</td>\n",
       "      <td>-18.501955</td>\n",
       "      <td>13.487622</td>\n",
       "      <td>-19.929634</td>\n",
       "      <td>7.956583</td>\n",
       "    </tr>\n",
       "    <tr>\n",
       "      <th>25%</th>\n",
       "      <td>0.319562</td>\n",
       "      <td>0.082298</td>\n",
       "      <td>0.086657</td>\n",
       "      <td>0.000942</td>\n",
       "      <td>1627.697311</td>\n",
       "      <td>1.843505e+05</td>\n",
       "      <td>1907.240605</td>\n",
       "      <td>67376.554428</td>\n",
       "      <td>3380.069642</td>\n",
       "      <td>7.727312e+05</td>\n",
       "      <td>...</td>\n",
       "      <td>-1.863280</td>\n",
       "      <td>40.376442</td>\n",
       "      <td>-7.207225</td>\n",
       "      <td>40.830875</td>\n",
       "      <td>-2.007015</td>\n",
       "      <td>41.884240</td>\n",
       "      <td>-4.662925</td>\n",
       "      <td>41.710184</td>\n",
       "      <td>-3.368996</td>\n",
       "      <td>42.372865</td>\n",
       "    </tr>\n",
       "    <tr>\n",
       "      <th>50%</th>\n",
       "      <td>0.383148</td>\n",
       "      <td>0.086615</td>\n",
       "      <td>0.122443</td>\n",
       "      <td>0.001816</td>\n",
       "      <td>2209.263090</td>\n",
       "      <td>3.384862e+05</td>\n",
       "      <td>2221.392843</td>\n",
       "      <td>111977.548036</td>\n",
       "      <td>4658.524473</td>\n",
       "      <td>1.476115e+06</td>\n",
       "      <td>...</td>\n",
       "      <td>1.212809</td>\n",
       "      <td>52.325077</td>\n",
       "      <td>-4.065605</td>\n",
       "      <td>54.717674</td>\n",
       "      <td>0.669643</td>\n",
       "      <td>54.804890</td>\n",
       "      <td>-2.393862</td>\n",
       "      <td>57.423059</td>\n",
       "      <td>-1.166289</td>\n",
       "      <td>59.186117</td>\n",
       "    </tr>\n",
       "    <tr>\n",
       "      <th>75%</th>\n",
       "      <td>0.435942</td>\n",
       "      <td>0.091256</td>\n",
       "      <td>0.175682</td>\n",
       "      <td>0.003577</td>\n",
       "      <td>2691.294667</td>\n",
       "      <td>6.121479e+05</td>\n",
       "      <td>2578.469836</td>\n",
       "      <td>182371.576801</td>\n",
       "      <td>5533.810460</td>\n",
       "      <td>2.555262e+06</td>\n",
       "      <td>...</td>\n",
       "      <td>4.359662</td>\n",
       "      <td>71.691755</td>\n",
       "      <td>-0.838737</td>\n",
       "      <td>75.040838</td>\n",
       "      <td>3.119212</td>\n",
       "      <td>75.385832</td>\n",
       "      <td>0.150573</td>\n",
       "      <td>78.626444</td>\n",
       "      <td>1.312615</td>\n",
       "      <td>85.375374</td>\n",
       "    </tr>\n",
       "    <tr>\n",
       "      <th>max</th>\n",
       "      <td>0.663685</td>\n",
       "      <td>0.108111</td>\n",
       "      <td>0.397973</td>\n",
       "      <td>0.027679</td>\n",
       "      <td>4435.243901</td>\n",
       "      <td>3.036843e+06</td>\n",
       "      <td>3509.646417</td>\n",
       "      <td>694784.811549</td>\n",
       "      <td>8677.672688</td>\n",
       "      <td>8.660900e+06</td>\n",
       "      <td>...</td>\n",
       "      <td>13.457150</td>\n",
       "      <td>392.932373</td>\n",
       "      <td>11.482946</td>\n",
       "      <td>406.058868</td>\n",
       "      <td>15.388390</td>\n",
       "      <td>332.905426</td>\n",
       "      <td>14.694924</td>\n",
       "      <td>393.161987</td>\n",
       "      <td>15.369627</td>\n",
       "      <td>506.065155</td>\n",
       "    </tr>\n",
       "  </tbody>\n",
       "</table>\n",
       "<p>8 rows × 57 columns</p>\n",
       "</div>"
      ],
      "text/plain": [
       "       chroma_stft_mean  chroma_stft_var     rms_mean      rms_var  \\\n",
       "count       1000.000000      1000.000000  1000.000000  1000.000000   \n",
       "mean           0.378682         0.086340     0.130930     0.003051   \n",
       "std            0.081705         0.007735     0.065683     0.003634   \n",
       "min            0.171939         0.044555     0.005276     0.000004   \n",
       "25%            0.319562         0.082298     0.086657     0.000942   \n",
       "50%            0.383148         0.086615     0.122443     0.001816   \n",
       "75%            0.435942         0.091256     0.175682     0.003577   \n",
       "max            0.663685         0.108111     0.397973     0.027679   \n",
       "\n",
       "       spectral_centroid_mean  spectral_centroid_var  spectral_bandwidth_mean  \\\n",
       "count             1000.000000           1.000000e+03              1000.000000   \n",
       "mean              2201.780898           4.696916e+05              2242.541070   \n",
       "std                715.960600           4.008995e+05               526.316473   \n",
       "min                570.040355           7.911251e+03               898.066208   \n",
       "25%               1627.697311           1.843505e+05              1907.240605   \n",
       "50%               2209.263090           3.384862e+05              2221.392843   \n",
       "75%               2691.294667           6.121479e+05              2578.469836   \n",
       "max               4435.243901           3.036843e+06              3509.646417   \n",
       "\n",
       "       spectral_bandwidth_var  rolloff_mean   rolloff_var  ...  mfcc16_mean  \\\n",
       "count             1000.000000   1000.000000  1.000000e+03  ...  1000.000000   \n",
       "mean            137079.155165   4571.549304  1.844345e+06  ...     1.148144   \n",
       "std              96455.666326   1574.791602  1.425085e+06  ...     4.578948   \n",
       "min              10787.185064    749.140636  1.468612e+04  ...   -15.693844   \n",
       "25%              67376.554428   3380.069642  7.727312e+05  ...    -1.863280   \n",
       "50%             111977.548036   4658.524473  1.476115e+06  ...     1.212809   \n",
       "75%             182371.576801   5533.810460  2.555262e+06  ...     4.359662   \n",
       "max             694784.811549   8677.672688  8.660900e+06  ...    13.457150   \n",
       "\n",
       "        mfcc16_var  mfcc17_mean   mfcc17_var  mfcc18_mean   mfcc18_var  \\\n",
       "count  1000.000000  1000.000000  1000.000000  1000.000000  1000.000000   \n",
       "mean     60.730958    -3.966028    62.633624     0.507696    63.712586   \n",
       "std      33.781951     4.549697    33.479172     3.869105    34.401977   \n",
       "min       9.169314   -17.234728    13.931521   -11.963694    15.420555   \n",
       "25%      40.376442    -7.207225    40.830875    -2.007015    41.884240   \n",
       "50%      52.325077    -4.065605    54.717674     0.669643    54.804890   \n",
       "75%      71.691755    -0.838737    75.040838     3.119212    75.385832   \n",
       "max     392.932373    11.482946   406.058868    15.388390   332.905426   \n",
       "\n",
       "       mfcc19_mean   mfcc19_var  mfcc20_mean   mfcc20_var  \n",
       "count  1000.000000  1000.000000  1000.000000  1000.000000  \n",
       "mean     -2.328761    66.231930    -1.095348    70.126096  \n",
       "std       3.755957    37.174631     3.837007    45.228512  \n",
       "min     -18.501955    13.487622   -19.929634     7.956583  \n",
       "25%      -4.662925    41.710184    -3.368996    42.372865  \n",
       "50%      -2.393862    57.423059    -1.166289    59.186117  \n",
       "75%       0.150573    78.626444     1.312615    85.375374  \n",
       "max      14.694924   393.161987    15.369627   506.065155  \n",
       "\n",
       "[8 rows x 57 columns]"
      ]
     },
     "execution_count": 27,
     "metadata": {},
     "output_type": "execute_result"
    }
   ],
   "source": [
    "#Statistical discriptors for each feature\n",
    "dataset.describe()"
   ]
  },
  {
   "cell_type": "code",
   "execution_count": 28,
   "id": "c4c8bbaf",
   "metadata": {},
   "outputs": [
    {
     "data": {
      "image/png": "[encoded data removed]",
      "text/plain": [
       "<Figure size 1600x800 with 1 Axes>"
      ]
     },
     "metadata": {},
     "output_type": "display_data"
    }
   ],
   "source": [
    "# A box plot to show the distribution of music pieces in different genres in different tempo/beats per minute values.\n",
    "x = dataset[[\"label\", \"tempo\"]]\n",
    "\n",
    "fig, ax = plt.subplots(figsize=(16, 8));\n",
    "sns.boxplot(x = \"label\", y = \"tempo\", data = x);\n",
    "\n",
    "plt.title('Beats Per Minute Boxplot for Genres', fontsize = 20)\n",
    "plt.xticks(fontsize = 14)\n",
    "plt.yticks(fontsize = 10);\n",
    "plt.xlabel(\"Genre\", fontsize = 15)\n",
    "plt.ylabel(\"BPM\", fontsize = 15)\n",
    "plt.savefig(\"BPM_Boxplot.png\")"
   ]
  },
  {
   "cell_type": "code",
   "execution_count": 34,
   "id": "30204286-4c1b-4922-9237-4987c4c04fec",
   "metadata": {},
   "outputs": [],
   "source": [
    "encoder = prp.LabelEncoder()\n",
    "X = dataset.drop(\"label\", axis = 1)\n",
    "y = encoder.fit_transform(dataset[\"label\"])"
   ]
  },
  {
   "cell_type": "markdown",
   "id": "0d4748e9",
   "metadata": {},
   "source": [
    "We are dividing the dataset to separate the labels from the features. The features are stored in the 'X' variable, while the string labels are stored in the 'y' variable."
   ]
  },
  {
   "cell_type": "code",
   "execution_count": null,
   "id": "db58d2e6",
   "metadata": {},
   "outputs": [],
   "source": [
    "X = dataset.iloc[:,:-1] #features\n",
    "y = dataset.iloc[:,-1] #labels"
   ]
  },
  {
   "cell_type": "markdown",
   "id": "3f315194",
   "metadata": {},
   "source": [
    "To prepare the dataset for PCA, we need to transform it to make it more uniform. As seen in the summary statistics above, each feature has its own spread, minimum, maximum, and variance, which makes it challenging to extract information from multidimensional data. To address this issue, we will scale the descriptive features using a Standard Scaler available in the sklearn.preprocessing package. This scaler function transforms each column in such a way that they have a mean of 0 and a standard deviation of 1.\n",
    "\n",
    "For the classification task, it's also crucial to encode the labeled data with numerical values. This is performed below using the LabelEncoder() function from the same package. When a model classifies data, it provides numerical output. Therefore, having a string array to compare with numerical output can lead to errors.\n",
    "\n",
    "The scaled features are shown below, and you can observe how all values are now spread across the range of -1 to 1."
   ]
  },
  {
   "cell_type": "code",
   "execution_count": null,
   "id": "73590617",
   "metadata": {},
   "outputs": [],
   "source": [
    "#Standard Scaler to transform X\n",
    "scaler = StandardScaler()\n",
    "X_scaled = scaler.fit_transform(X)\n",
    "\n",
    "#LabelEncoder\n",
    "label_encoder = LabelEncoder()\n",
    "\n",
    "# Encode the class labels in y with numeric values\n",
    "y_encoded = label_encoder.fit_transform(y)\n",
    "\n",
    "#Display scaled features\n",
    "X_df = pd.DataFrame(X_scaled, columns=X.columns)\n",
    "X_df.head()"
   ]
  },
  {
   "cell_type": "markdown",
   "id": "25d4cbc1",
   "metadata": {},
   "source": [
    "Now, we apply PCA transformation to our scaled feature data. Setting n_components to 2 means that PCA will reduce the dimensionality of the dataset by retaining the two most significant principal components. These two components capture the maximum variance in the data, providing a simplified representation of the dataset while preserving as much relevant information as possible."
   ]
  },
  {
   "cell_type": "code",
   "execution_count": null,
   "id": "27357aeb",
   "metadata": {},
   "outputs": [],
   "source": [
    "#PCA transformation\n",
    "pca = PCA(n_components=2)\n",
    "X_pca = pca.fit_transform(X_scaled)"
   ]
  },
  {
   "cell_type": "markdown",
   "id": "662b19fc",
   "metadata": {},
   "source": [
    "The code below provides the explained variance value for each of the principal components. A higher value indicates that the component has captured more information about the data's variation. For both components, the explained variance is around 0.2, indicating that each component accounts for only 20% of the variation in the data. This reveals that using PCA may result in a significant loss of information, regardless of dimensionality reduction. We will explore other techniques and methods to address this issue when finalizing the model later."
   ]
  },
  {
   "cell_type": "code",
   "execution_count": null,
   "id": "3d33f4de",
   "metadata": {},
   "outputs": [],
   "source": [
    "#Calculating ecplained variance as part of PCA evaluation.\n",
    "explained_variance = pca.explained_variance_ratio_\n",
    "print(\"Explained Variance:\", explained_variance)"
   ]
  },
  {
   "cell_type": "markdown",
   "id": "46df5891",
   "metadata": {},
   "source": [
    "The code below plots both the principal components for each class, and we can observe a significant overlap of data points from different genres. The PCA visualization does not provide a clear separation between classes, which may not be ideal for our purposes. As an alternative, we might consider using the original scaled dataset for our model. In later stages, we can explore feature selection techniques to reduce dimensionality and computational complexity."
   ]
  },
  {
   "cell_type": "code",
   "execution_count": null,
   "id": "2a3ea75e",
   "metadata": {},
   "outputs": [],
   "source": [
    "#Plot of principal components\n",
    "plt.scatter(X_pca[:, 0], X_pca[:, 1], c=y_encoded, cmap='viridis')\n",
    "plt.xlabel(\"Principal Component 1\")\n",
    "plt.ylabel(\"Principal Component 2\")\n",
    "plt.title(\"PCA Visualization\")\n",
    "plt.show()"
   ]
  },
  {
   "cell_type": "code",
   "execution_count": 35,
   "id": "e33cc004",
   "metadata": {},
   "outputs": [],
   "source": [
    "#Train-test split\n",
    "test_size = 0.20\n",
    "seed = 101 #for randomization of split\n",
    "X_train, X_test, y_train, y_test = train_test_split(X, y, test_size=test_size, random_state=seed)"
   ]
  },
  {
   "cell_type": "code",
   "execution_count": 36,
   "id": "137a2247-72ed-415e-ba77-55c754519069",
   "metadata": {},
   "outputs": [],
   "source": [
    "scaler = prp.StandardScaler()\n",
    "X_train_scaled = scaler.fit_transform(X_train)\n",
    "X_test_scaled = scaler.transform(X_test)"
   ]
  },
  {
   "cell_type": "code",
   "execution_count": 37,
   "id": "5ed34f1e-8218-4536-a7cc-9d5bb2cc6a3e",
   "metadata": {},
   "outputs": [],
   "source": [
    "target = pd.DataFrame()"
   ]
  },
  {
   "cell_type": "code",
   "execution_count": 107,
   "id": "80d472c0-c9a8-4389-ab38-906af30c914c",
   "metadata": {},
   "outputs": [],
   "source": [
    "from sklearn.model_selection import train_test_split, KFold, cross_val_score\n",
    "from sklearn.linear_model import LogisticRegression\n",
    "from sklearn.neighbors import KNeighborsClassifier\n",
    "from sklearn.svm import SVC\n",
    "from sklearn.ensemble import RandomForestClassifier\n",
    "#Data evaluation\n",
    "from sklearn.metrics import confusion_matrix, classification_report, accuracy_score"
   ]
  },
  {
   "cell_type": "code",
   "execution_count": 108,
   "id": "c24cbec0",
   "metadata": {},
   "outputs": [],
   "source": [
    "#List of models\n",
    "models = []\n",
    "models.append(('LR', LogisticRegression(solver='liblinear', multi_class='ovr'))) #Logistic Regression\n",
    "models.append(('KNN', KNeighborsClassifier()))                                   #K-Nearest Neighbor\n",
    "models.append(('SVM', SVC(gamma='auto')))                                        #Support Vector Machine\n",
    "models.append(('RF', RandomForestClassifier(n_estimators=100, random_state=7)))  #Random Forest"
   ]
  },
  {
   "cell_type": "code",
   "execution_count": 115,
   "id": "574424ef-943b-4c83-973a-758d1ac514ee",
   "metadata": {},
   "outputs": [],
   "source": [
    "results = [] #store accuracy score for each model\n",
    "names = [] #name of the corresponding model\n",
    "for name, model in models:\n",
    "    kfold = KFold(n_splits=5, random_state = seed, shuffle = True)\n",
    "    cv_results = cross_val_score(model, X_train, y_train, cv = kfold, scoring = \"accuracy\")\n",
    "    target.loc[name, \"Accuracy\"] = cv_results.mean()\n",
    "    results.append(cv_results)\n",
    "    names.append(name)"
   ]
  },
  {
   "cell_type": "code",
   "execution_count": 117,
   "id": "ef61cb76-52f5-40ba-ad72-8d8eb1d6c8fd",
   "metadata": {},
   "outputs": [],
   "source": [
    "for name, model in models:\n",
    "    kfold = KFold(n_splits=5, random_state = seed, shuffle = True)\n",
    "    cv_results = cross_val_score(model, X_train_scaled, y_train, cv = kfold, scoring = \"accuracy\")\n",
    "    target.loc[f\"{name}_scaled\", \"Accuracy\"] = cv_results.mean()\n",
    "    results.append(cv_results)\n",
    "    names.append(f\"{name}_scaled\")"
   ]
  },
  {
   "cell_type": "code",
   "execution_count": null,
   "id": "72e0989d",
   "metadata": {},
   "outputs": [],
   "source": [
    "# Make predictions on validation dataset\n",
    "#Logistic Regression\n",
    "lr = LogisticRegression(solver='liblinear', multi_class='ovr')\n",
    "lr.fit(X_train, y_train)\n",
    "predictions = lr.predict(X_test)\n",
    "print(accuracy_score(y_test, predictions))\n",
    "print(confusion_matrix(y_test, predictions))\n",
    "print(classification_report(y_test, predictions))"
   ]
  },
  {
   "cell_type": "code",
   "execution_count": null,
   "id": "fda86bd5",
   "metadata": {},
   "outputs": [],
   "source": [
    "# Make predictions on validation dataset\n",
    "# K-Nearest Neighbor\n",
    "knn = KNeighborsClassifier()\n",
    "knn.fit(X_train, y_train)\n",
    "predictions = knn.predict(X_test)\n",
    "print(accuracy_score(y_test, predictions))\n",
    "print(confusion_matrix(y_test, predictions))\n",
    "print(classification_report(y_test, predictions))"
   ]
  },
  {
   "cell_type": "code",
   "execution_count": null,
   "id": "3aa25f33",
   "metadata": {},
   "outputs": [],
   "source": [
    "# Make predictions on validation dataset\n",
    "# Support Vector Machine\n",
    "svm = SVC(gamma='auto')\n",
    "svm.fit(X_train, y_train)\n",
    "predictions = svm.predict(X_test)\n",
    "print(accuracy_score(y_test, predictions))\n",
    "print(confusion_matrix(y_test, predictions))\n",
    "print(classification_report(y_test, predictions))"
   ]
  },
  {
   "cell_type": "code",
   "execution_count": null,
   "id": "780c2922",
   "metadata": {},
   "outputs": [],
   "source": [
    "# Make predictions on validation dataset\n",
    "# Random Forest\n",
    "rf = RandomForestClassifier(n_estimators=100, random_state=7)\n",
    "rf.fit(X_train, y_train)\n",
    "predictions = rf.predict(X_test)\n",
    "print(accuracy_score(y_test, predictions))\n",
    "print(confusion_matrix(y_test, predictions))\n",
    "print(classification_report(y_test, predictions))"
   ]
  },
  {
   "cell_type": "code",
   "execution_count": 119,
   "id": "b72a000e-a845-4e6f-92c0-cd0f4aece8a0",
   "metadata": {},
   "outputs": [
    {
     "data": {
      "text/html": [
       "<div>\n",
       "<style scoped>\n",
       "    .dataframe tbody tr th:only-of-type {\n",
       "        vertical-align: middle;\n",
       "    }\n",
       "\n",
       "    .dataframe tbody tr th {\n",
       "        vertical-align: top;\n",
       "    }\n",
       "\n",
       "    .dataframe thead th {\n",
       "        text-align: right;\n",
       "    }\n",
       "</style>\n",
       "<table border=\"1\" class=\"dataframe\">\n",
       "  <thead>\n",
       "    <tr style=\"text-align: right;\">\n",
       "      <th></th>\n",
       "      <th>Accuracy</th>\n",
       "    </tr>\n",
       "  </thead>\n",
       "  <tbody>\n",
       "    <tr>\n",
       "      <th>LR</th>\n",
       "      <td>0.51750</td>\n",
       "    </tr>\n",
       "    <tr>\n",
       "      <th>KNN</th>\n",
       "      <td>0.23250</td>\n",
       "    </tr>\n",
       "    <tr>\n",
       "      <th>SVM</th>\n",
       "      <td>0.08625</td>\n",
       "    </tr>\n",
       "    <tr>\n",
       "      <th>RF</th>\n",
       "      <td>0.70125</td>\n",
       "    </tr>\n",
       "    <tr>\n",
       "      <th>LR_scaled</th>\n",
       "      <td>0.68125</td>\n",
       "    </tr>\n",
       "    <tr>\n",
       "      <th>KNN_scaled</th>\n",
       "      <td>0.64000</td>\n",
       "    </tr>\n",
       "    <tr>\n",
       "      <th>SVM_scaled</th>\n",
       "      <td>0.69875</td>\n",
       "    </tr>\n",
       "    <tr>\n",
       "      <th>RF_scaled</th>\n",
       "      <td>0.69625</td>\n",
       "    </tr>\n",
       "  </tbody>\n",
       "</table>\n",
       "</div>"
      ],
      "text/plain": [
       "            Accuracy\n",
       "LR           0.51750\n",
       "KNN          0.23250\n",
       "SVM          0.08625\n",
       "RF           0.70125\n",
       "LR_scaled    0.68125\n",
       "KNN_scaled   0.64000\n",
       "SVM_scaled   0.69875\n",
       "RF_scaled    0.69625"
      ]
     },
     "execution_count": 119,
     "metadata": {},
     "output_type": "execute_result"
    }
   ],
   "source": [
    "target"
   ]
  },
  {
   "cell_type": "code",
   "execution_count": 120,
   "id": "dd595bb5-a971-4767-8e4f-ffc5e67fdcc7",
   "metadata": {},
   "outputs": [
    {
     "data": {
      "image/png": "[encoded data removed]",
      "text/plain": [
       "<Figure size 640x480 with 1 Axes>"
      ]
     },
     "metadata": {},
     "output_type": "display_data"
    }
   ],
   "source": [
    "# Compare Algorithms\n",
    "fig = plt.figure()\n",
    "fig.suptitle('Algorithm Comparison')\n",
    "ax = fig.add_subplot(111)\n",
    "plt.boxplot(results)\n",
    "plt.xtick\n",
    "ax.set_xticklabels(names)\n",
    "plt.show()"
   ]
  },
  {
   "cell_type": "code",
   "execution_count": null,
   "id": "def33085-c8bd-4821-acb4-2cef7fd6c42b",
   "metadata": {},
   "outputs": [],
   "source": []
  }
 ],
 "metadata": {
  "kernelspec": {
   "display_name": "Python 3 (ipykernel)",
   "language": "python",
   "name": "python3"
  },
  "language_info": {
   "codemirror_mode": {
    "name": "ipython",
    "version": 3
   },
   "file_extension": ".py",
   "mimetype": "text/x-python",
   "name": "python",
   "nbconvert_exporter": "python",
   "pygments_lexer": "ipython3",
   "version": "3.10.8"
  }
 },
 "nbformat": 4,
 "nbformat_minor": 5
}
