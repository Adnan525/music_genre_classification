{
 "cells": [
  {
   "cell_type": "code",
   "execution_count": 1,
   "id": "346d56b5-b180-403c-abcb-3cbe14ee694b",
   "metadata": {},
   "outputs": [],
   "source": [
    "\n",
    "import pandas as pd\n",
    "import numpy as np\n",
    "import matplotlib.pyplot as plt\n",
    "import seaborn as sns\n",
    "from sklearn.model_selection import train_test_split\n",
    "from sklearn import preprocessing as prp\n",
    "from sklearn.metrics import accuracy_score, precision_score, recall_score, f1_score, roc_auc_score, confusion_matrix"
   ]
  },
  {
   "cell_type": "code",
   "execution_count": 2,
   "id": "23bba925-d445-4d8e-a778-81113463d788",
   "metadata": {},
   "outputs": [],
   "source": [
    "import warnings\n",
    "warnings.filterwarnings(\"ignore\")"
   ]
  },
  {
   "cell_type": "code",
   "execution_count": 3,
   "id": "0fb48223-0c6d-4e49-98f4-1d467cf33e4b",
   "metadata": {},
   "outputs": [],
   "source": [
    "target = pd.DataFrame()"
   ]
  },
  {
   "cell_type": "code",
   "execution_count": 4,
   "id": "349bdfd3-a964-4e50-b956-9be20e8e27f4",
   "metadata": {},
   "outputs": [],
   "source": [
    "df = pd.read_csv(\"features_3_sec.csv\")"
   ]
  },
  {
   "cell_type": "code",
   "execution_count": 5,
   "id": "1d1817e4-012c-4e4b-aedf-aaa32befba5b",
   "metadata": {},
   "outputs": [
    {
     "data": {
      "text/plain": [
       "(9990, 60)"
      ]
     },
     "execution_count": 5,
     "metadata": {},
     "output_type": "execute_result"
    }
   ],
   "source": [
    "df.shape"
   ]
  },
  {
   "cell_type": "code",
   "execution_count": 6,
   "id": "4514c4f0-3e8c-4048-9970-c3ec5389203c",
   "metadata": {},
   "outputs": [
    {
     "data": {
      "text/plain": [
       "Index(['filename', 'length', 'chroma_stft_mean', 'chroma_stft_var', 'rms_mean',\n",
       "       'rms_var', 'spectral_centroid_mean', 'spectral_centroid_var',\n",
       "       'spectral_bandwidth_mean', 'spectral_bandwidth_var', 'rolloff_mean',\n",
       "       'rolloff_var', 'zero_crossing_rate_mean', 'zero_crossing_rate_var',\n",
       "       'harmony_mean', 'harmony_var', 'perceptr_mean', 'perceptr_var', 'tempo',\n",
       "       'mfcc1_mean', 'mfcc1_var', 'mfcc2_mean', 'mfcc2_var', 'mfcc3_mean',\n",
       "       'mfcc3_var', 'mfcc4_mean', 'mfcc4_var', 'mfcc5_mean', 'mfcc5_var',\n",
       "       'mfcc6_mean', 'mfcc6_var', 'mfcc7_mean', 'mfcc7_var', 'mfcc8_mean',\n",
       "       'mfcc8_var', 'mfcc9_mean', 'mfcc9_var', 'mfcc10_mean', 'mfcc10_var',\n",
       "       'mfcc11_mean', 'mfcc11_var', 'mfcc12_mean', 'mfcc12_var', 'mfcc13_mean',\n",
       "       'mfcc13_var', 'mfcc14_mean', 'mfcc14_var', 'mfcc15_mean', 'mfcc15_var',\n",
       "       'mfcc16_mean', 'mfcc16_var', 'mfcc17_mean', 'mfcc17_var', 'mfcc18_mean',\n",
       "       'mfcc18_var', 'mfcc19_mean', 'mfcc19_var', 'mfcc20_mean', 'mfcc20_var',\n",
       "       'label'],\n",
       "      dtype='object')"
      ]
     },
     "execution_count": 6,
     "metadata": {},
     "output_type": "execute_result"
    }
   ],
   "source": [
    "df.columns"
   ]
  },
  {
   "cell_type": "code",
   "execution_count": 7,
   "id": "2492130b-f8e2-408b-9ef7-4172a906dfca",
   "metadata": {},
   "outputs": [
    {
     "data": {
      "text/plain": [
       "9990"
      ]
     },
     "execution_count": 7,
     "metadata": {},
     "output_type": "execute_result"
    }
   ],
   "source": [
    "len(df[\"filename\"].unique())"
   ]
  },
  {
   "cell_type": "code",
   "execution_count": 8,
   "id": "9ded6bd6-c70b-4253-b09b-fedd68712a9d",
   "metadata": {},
   "outputs": [
    {
     "data": {
      "text/html": [
       "<div>\n",
       "<style scoped>\n",
       "    .dataframe tbody tr th:only-of-type {\n",
       "        vertical-align: middle;\n",
       "    }\n",
       "\n",
       "    .dataframe tbody tr th {\n",
       "        vertical-align: top;\n",
       "    }\n",
       "\n",
       "    .dataframe thead th {\n",
       "        text-align: right;\n",
       "    }\n",
       "</style>\n",
       "<table border=\"1\" class=\"dataframe\">\n",
       "  <thead>\n",
       "    <tr style=\"text-align: right;\">\n",
       "      <th></th>\n",
       "      <th>filename</th>\n",
       "      <th>length</th>\n",
       "      <th>chroma_stft_mean</th>\n",
       "      <th>chroma_stft_var</th>\n",
       "      <th>rms_mean</th>\n",
       "      <th>rms_var</th>\n",
       "      <th>spectral_centroid_mean</th>\n",
       "      <th>spectral_centroid_var</th>\n",
       "      <th>spectral_bandwidth_mean</th>\n",
       "      <th>spectral_bandwidth_var</th>\n",
       "      <th>...</th>\n",
       "      <th>mfcc16_var</th>\n",
       "      <th>mfcc17_mean</th>\n",
       "      <th>mfcc17_var</th>\n",
       "      <th>mfcc18_mean</th>\n",
       "      <th>mfcc18_var</th>\n",
       "      <th>mfcc19_mean</th>\n",
       "      <th>mfcc19_var</th>\n",
       "      <th>mfcc20_mean</th>\n",
       "      <th>mfcc20_var</th>\n",
       "      <th>label</th>\n",
       "    </tr>\n",
       "  </thead>\n",
       "  <tbody>\n",
       "    <tr>\n",
       "      <th>0</th>\n",
       "      <td>blues.00000.0.wav</td>\n",
       "      <td>66149</td>\n",
       "      <td>0.335406</td>\n",
       "      <td>0.091048</td>\n",
       "      <td>0.130405</td>\n",
       "      <td>0.003521</td>\n",
       "      <td>1773.065032</td>\n",
       "      <td>167541.630869</td>\n",
       "      <td>1972.744388</td>\n",
       "      <td>117335.771563</td>\n",
       "      <td>...</td>\n",
       "      <td>39.687145</td>\n",
       "      <td>-3.241280</td>\n",
       "      <td>36.488243</td>\n",
       "      <td>0.722209</td>\n",
       "      <td>38.099152</td>\n",
       "      <td>-5.050335</td>\n",
       "      <td>33.618073</td>\n",
       "      <td>-0.243027</td>\n",
       "      <td>43.771767</td>\n",
       "      <td>blues</td>\n",
       "    </tr>\n",
       "    <tr>\n",
       "      <th>1</th>\n",
       "      <td>blues.00000.1.wav</td>\n",
       "      <td>66149</td>\n",
       "      <td>0.343065</td>\n",
       "      <td>0.086147</td>\n",
       "      <td>0.112699</td>\n",
       "      <td>0.001450</td>\n",
       "      <td>1816.693777</td>\n",
       "      <td>90525.690866</td>\n",
       "      <td>2010.051501</td>\n",
       "      <td>65671.875673</td>\n",
       "      <td>...</td>\n",
       "      <td>64.748276</td>\n",
       "      <td>-6.055294</td>\n",
       "      <td>40.677654</td>\n",
       "      <td>0.159015</td>\n",
       "      <td>51.264091</td>\n",
       "      <td>-2.837699</td>\n",
       "      <td>97.030830</td>\n",
       "      <td>5.784063</td>\n",
       "      <td>59.943081</td>\n",
       "      <td>blues</td>\n",
       "    </tr>\n",
       "    <tr>\n",
       "      <th>2</th>\n",
       "      <td>blues.00000.2.wav</td>\n",
       "      <td>66149</td>\n",
       "      <td>0.346815</td>\n",
       "      <td>0.092243</td>\n",
       "      <td>0.132003</td>\n",
       "      <td>0.004620</td>\n",
       "      <td>1788.539719</td>\n",
       "      <td>111407.437613</td>\n",
       "      <td>2084.565132</td>\n",
       "      <td>75124.921716</td>\n",
       "      <td>...</td>\n",
       "      <td>67.336563</td>\n",
       "      <td>-1.768610</td>\n",
       "      <td>28.348579</td>\n",
       "      <td>2.378768</td>\n",
       "      <td>45.717648</td>\n",
       "      <td>-1.938424</td>\n",
       "      <td>53.050835</td>\n",
       "      <td>2.517375</td>\n",
       "      <td>33.105122</td>\n",
       "      <td>blues</td>\n",
       "    </tr>\n",
       "    <tr>\n",
       "      <th>3</th>\n",
       "      <td>blues.00000.3.wav</td>\n",
       "      <td>66149</td>\n",
       "      <td>0.363639</td>\n",
       "      <td>0.086856</td>\n",
       "      <td>0.132565</td>\n",
       "      <td>0.002448</td>\n",
       "      <td>1655.289045</td>\n",
       "      <td>111952.284517</td>\n",
       "      <td>1960.039988</td>\n",
       "      <td>82913.639269</td>\n",
       "      <td>...</td>\n",
       "      <td>47.739452</td>\n",
       "      <td>-3.841155</td>\n",
       "      <td>28.337118</td>\n",
       "      <td>1.218588</td>\n",
       "      <td>34.770935</td>\n",
       "      <td>-3.580352</td>\n",
       "      <td>50.836224</td>\n",
       "      <td>3.630866</td>\n",
       "      <td>32.023678</td>\n",
       "      <td>blues</td>\n",
       "    </tr>\n",
       "    <tr>\n",
       "      <th>4</th>\n",
       "      <td>blues.00000.4.wav</td>\n",
       "      <td>66149</td>\n",
       "      <td>0.335579</td>\n",
       "      <td>0.088129</td>\n",
       "      <td>0.143289</td>\n",
       "      <td>0.001701</td>\n",
       "      <td>1630.656199</td>\n",
       "      <td>79667.267654</td>\n",
       "      <td>1948.503884</td>\n",
       "      <td>60204.020268</td>\n",
       "      <td>...</td>\n",
       "      <td>30.336359</td>\n",
       "      <td>0.664582</td>\n",
       "      <td>45.880913</td>\n",
       "      <td>1.689446</td>\n",
       "      <td>51.363583</td>\n",
       "      <td>-3.392489</td>\n",
       "      <td>26.738789</td>\n",
       "      <td>0.536961</td>\n",
       "      <td>29.146694</td>\n",
       "      <td>blues</td>\n",
       "    </tr>\n",
       "  </tbody>\n",
       "</table>\n",
       "<p>5 rows × 60 columns</p>\n",
       "</div>"
      ],
      "text/plain": [
       "            filename  length  chroma_stft_mean  chroma_stft_var  rms_mean  \\\n",
       "0  blues.00000.0.wav   66149          0.335406         0.091048  0.130405   \n",
       "1  blues.00000.1.wav   66149          0.343065         0.086147  0.112699   \n",
       "2  blues.00000.2.wav   66149          0.346815         0.092243  0.132003   \n",
       "3  blues.00000.3.wav   66149          0.363639         0.086856  0.132565   \n",
       "4  blues.00000.4.wav   66149          0.335579         0.088129  0.143289   \n",
       "\n",
       "    rms_var  spectral_centroid_mean  spectral_centroid_var  \\\n",
       "0  0.003521             1773.065032          167541.630869   \n",
       "1  0.001450             1816.693777           90525.690866   \n",
       "2  0.004620             1788.539719          111407.437613   \n",
       "3  0.002448             1655.289045          111952.284517   \n",
       "4  0.001701             1630.656199           79667.267654   \n",
       "\n",
       "   spectral_bandwidth_mean  spectral_bandwidth_var  ...  mfcc16_var  \\\n",
       "0              1972.744388           117335.771563  ...   39.687145   \n",
       "1              2010.051501            65671.875673  ...   64.748276   \n",
       "2              2084.565132            75124.921716  ...   67.336563   \n",
       "3              1960.039988            82913.639269  ...   47.739452   \n",
       "4              1948.503884            60204.020268  ...   30.336359   \n",
       "\n",
       "   mfcc17_mean  mfcc17_var  mfcc18_mean  mfcc18_var  mfcc19_mean  mfcc19_var  \\\n",
       "0    -3.241280   36.488243     0.722209   38.099152    -5.050335   33.618073   \n",
       "1    -6.055294   40.677654     0.159015   51.264091    -2.837699   97.030830   \n",
       "2    -1.768610   28.348579     2.378768   45.717648    -1.938424   53.050835   \n",
       "3    -3.841155   28.337118     1.218588   34.770935    -3.580352   50.836224   \n",
       "4     0.664582   45.880913     1.689446   51.363583    -3.392489   26.738789   \n",
       "\n",
       "   mfcc20_mean  mfcc20_var  label  \n",
       "0    -0.243027   43.771767  blues  \n",
       "1     5.784063   59.943081  blues  \n",
       "2     2.517375   33.105122  blues  \n",
       "3     3.630866   32.023678  blues  \n",
       "4     0.536961   29.146694  blues  \n",
       "\n",
       "[5 rows x 60 columns]"
      ]
     },
     "execution_count": 8,
     "metadata": {},
     "output_type": "execute_result"
    }
   ],
   "source": [
    "df.head()"
   ]
  },
  {
   "cell_type": "code",
   "execution_count": 9,
   "id": "345625cf-982a-4daa-b55a-74154407a27f",
   "metadata": {},
   "outputs": [],
   "source": [
    "df.drop(\"filename\", axis = 1, inplace=True)"
   ]
  },
  {
   "cell_type": "code",
   "execution_count": 10,
   "id": "f3ec93cc-ec2e-4100-b7b5-99e15c6eed1c",
   "metadata": {},
   "outputs": [],
   "source": [
    "encoder = prp.LabelEncoder()\n",
    "X = df.drop(\"label\", axis = 1)\n",
    "y = encoder.fit_transform(df[\"label\"])"
   ]
  },
  {
   "cell_type": "code",
   "execution_count": 11,
   "id": "3616540f-2126-4353-b8cd-e68e357ef92f",
   "metadata": {},
   "outputs": [],
   "source": [
    "standard_scaler = prp.StandardScaler()\n",
    "max_abs_scaler = prp.MaxAbsScaler()\n",
    "min_max_scaler = prp.MinMaxScaler()"
   ]
  },
  {
   "cell_type": "code",
   "execution_count": 12,
   "id": "54023c69-50e6-44f4-91df-148fb1c9d0bc",
   "metadata": {},
   "outputs": [],
   "source": [
    "X_train, X_test, y_train, y_test = train_test_split(X, y, test_size=0.3, random_state=42, stratify = y)"
   ]
  },
  {
   "cell_type": "code",
   "execution_count": 13,
   "id": "2fbe38ab-1c74-43f2-8a69-64b57cf31453",
   "metadata": {},
   "outputs": [],
   "source": [
    "X_train_std_scaled = standard_scaler.fit_transform(X_train)\n",
    "X_test_std_scaled = standard_scaler.transform(X_test)"
   ]
  },
  {
   "cell_type": "code",
   "execution_count": 14,
   "id": "5bb11748-7cca-4fcc-a566-c120bdc951e8",
   "metadata": {},
   "outputs": [],
   "source": [
    "X_train_max_abs_scaled = max_abs_scaler.fit_transform(X_train)\n",
    "X_test_max_abs_scaled = max_abs_scaler.transform(X_test)"
   ]
  },
  {
   "cell_type": "code",
   "execution_count": 15,
   "id": "5414ee1c-b03c-43cf-8258-2bcb9fd1d3f9",
   "metadata": {},
   "outputs": [],
   "source": [
    "X_train_min_max_scaled = min_max_scaler.fit_transform(X_train)\n",
    "X_test_min_max_scaled = min_max_scaler.transform(X_test)"
   ]
  },
  {
   "cell_type": "code",
   "execution_count": 16,
   "id": "68552f6a-3857-4fda-88ac-ef18e483efff",
   "metadata": {},
   "outputs": [],
   "source": [
    "def model_assess(name, model, XTrain, XTest):\n",
    "    model.fit(XTrain, y_train)\n",
    "    preds = model.predict(XTest)\n",
    "    print(f'{name} Accuracy:', round(accuracy_score(y_test, preds), 5), '\\n')\n",
    "    target.loc[name, \"Accuracy\"] = round(accuracy_score(y_test, preds), 5)"
   ]
  },
  {
   "cell_type": "markdown",
   "id": "198d0627-1f89-475a-a793-a132698cb85b",
   "metadata": {},
   "source": [
    "# Gradient boost with 1000 estimators had best result"
   ]
  },
  {
   "cell_type": "code",
   "execution_count": 17,
   "id": "e923e4d1-e1ce-4054-be2f-6862612d6c66",
   "metadata": {},
   "outputs": [],
   "source": [
    "from xgboost import XGBClassifier"
   ]
  },
  {
   "cell_type": "code",
   "execution_count": 18,
   "id": "fb132d66-92ff-4d12-afb3-62f90d0aa98d",
   "metadata": {},
   "outputs": [],
   "source": [
    "model  = XGBClassifier(n_estimators = 1000, learning_rate = 0.01)"
   ]
  },
  {
   "cell_type": "code",
   "execution_count": 19,
   "id": "cad09ade-70c6-4448-abd1-1da192a0d0e2",
   "metadata": {},
   "outputs": [
    {
     "name": "stdout",
     "output_type": "stream",
     "text": [
      "xgb_no_scale Accuracy: 0.8642 \n",
      "\n"
     ]
    }
   ],
   "source": [
    "model_assess(\"xgb_no_scale\", model, X_train, X_test)"
   ]
  },
  {
   "cell_type": "code",
   "execution_count": 20,
   "id": "035cf25d-7e54-47e5-b457-78c79b38ba90",
   "metadata": {},
   "outputs": [
    {
     "name": "stdout",
     "output_type": "stream",
     "text": [
      "xgb_std_scale Accuracy: 0.8642 \n",
      "\n"
     ]
    }
   ],
   "source": [
    "model_assess(\"xgb_std_scale\", model, X_train_std_scaled , X_test_std_scaled)"
   ]
  },
  {
   "cell_type": "code",
   "execution_count": 21,
   "id": "8ea54581-385a-4cce-877b-89a3ee409f67",
   "metadata": {},
   "outputs": [
    {
     "name": "stdout",
     "output_type": "stream",
     "text": [
      "xgb_max_abs_scale Accuracy: 0.8642 \n",
      "\n"
     ]
    }
   ],
   "source": [
    "model_assess(\"xgb_max_abs_scale\", model, X_train_max_abs_scaled, X_test_max_abs_scaled)"
   ]
  },
  {
   "cell_type": "code",
   "execution_count": 22,
   "id": "5a589428-f0e7-4589-83aa-e945d5a21c05",
   "metadata": {},
   "outputs": [
    {
     "name": "stdout",
     "output_type": "stream",
     "text": [
      "xgb_min_max_scale Accuracy: 0.86453 \n",
      "\n"
     ]
    }
   ],
   "source": [
    "model_assess(\"xgb_min_max_scale\", model, X_train_min_max_scaled, X_test_min_max_scaled)"
   ]
  },
  {
   "cell_type": "code",
   "execution_count": 23,
   "id": "9acb3121-39b0-43b7-8ee8-d52f83fb1c8e",
   "metadata": {},
   "outputs": [
    {
     "data": {
      "text/html": [
       "<div>\n",
       "<style scoped>\n",
       "    .dataframe tbody tr th:only-of-type {\n",
       "        vertical-align: middle;\n",
       "    }\n",
       "\n",
       "    .dataframe tbody tr th {\n",
       "        vertical-align: top;\n",
       "    }\n",
       "\n",
       "    .dataframe thead th {\n",
       "        text-align: right;\n",
       "    }\n",
       "</style>\n",
       "<table border=\"1\" class=\"dataframe\">\n",
       "  <thead>\n",
       "    <tr style=\"text-align: right;\">\n",
       "      <th></th>\n",
       "      <th>Accuracy</th>\n",
       "    </tr>\n",
       "  </thead>\n",
       "  <tbody>\n",
       "    <tr>\n",
       "      <th>xgb_no_scale</th>\n",
       "      <td>0.86420</td>\n",
       "    </tr>\n",
       "    <tr>\n",
       "      <th>xgb_std_scale</th>\n",
       "      <td>0.86420</td>\n",
       "    </tr>\n",
       "    <tr>\n",
       "      <th>xgb_max_abs_scale</th>\n",
       "      <td>0.86420</td>\n",
       "    </tr>\n",
       "    <tr>\n",
       "      <th>xgb_min_max_scale</th>\n",
       "      <td>0.86453</td>\n",
       "    </tr>\n",
       "  </tbody>\n",
       "</table>\n",
       "</div>"
      ],
      "text/plain": [
       "                   Accuracy\n",
       "xgb_no_scale        0.86420\n",
       "xgb_std_scale       0.86420\n",
       "xgb_max_abs_scale   0.86420\n",
       "xgb_min_max_scale   0.86453"
      ]
     },
     "execution_count": 23,
     "metadata": {},
     "output_type": "execute_result"
    }
   ],
   "source": [
    "target"
   ]
  },
  {
   "cell_type": "markdown",
   "id": "afc8c079-101c-4dee-b1c3-b1c989a4bc47",
   "metadata": {},
   "source": [
    "# The problms there's a chance that train and test set will have different part of the same song! thus probably we are getting this very high accuracy?"
   ]
  },
  {
   "cell_type": "code",
   "execution_count": 24,
   "id": "c00abb66-6720-4417-b074-991fd3ec0985",
   "metadata": {},
   "outputs": [],
   "source": [
    "df = pd.read_csv(\"features_3_sec.csv\")"
   ]
  },
  {
   "cell_type": "code",
   "execution_count": 25,
   "id": "0b32fe45-2bfb-4b28-89e3-f5ed2a4552f9",
   "metadata": {},
   "outputs": [],
   "source": [
    "# no idea why!!\n",
    "df.drop(\"length\", axis = 1, inplace = True)"
   ]
  },
  {
   "cell_type": "code",
   "execution_count": 26,
   "id": "8c27bae2-f9e9-477e-a7b7-d9120f44a712",
   "metadata": {},
   "outputs": [
    {
     "data": {
      "text/html": [
       "<div>\n",
       "<style scoped>\n",
       "    .dataframe tbody tr th:only-of-type {\n",
       "        vertical-align: middle;\n",
       "    }\n",
       "\n",
       "    .dataframe tbody tr th {\n",
       "        vertical-align: top;\n",
       "    }\n",
       "\n",
       "    .dataframe thead th {\n",
       "        text-align: right;\n",
       "    }\n",
       "</style>\n",
       "<table border=\"1\" class=\"dataframe\">\n",
       "  <thead>\n",
       "    <tr style=\"text-align: right;\">\n",
       "      <th></th>\n",
       "      <th>filename</th>\n",
       "      <th>chroma_stft_mean</th>\n",
       "      <th>chroma_stft_var</th>\n",
       "      <th>rms_mean</th>\n",
       "      <th>rms_var</th>\n",
       "      <th>spectral_centroid_mean</th>\n",
       "      <th>spectral_centroid_var</th>\n",
       "      <th>spectral_bandwidth_mean</th>\n",
       "      <th>spectral_bandwidth_var</th>\n",
       "      <th>rolloff_mean</th>\n",
       "      <th>...</th>\n",
       "      <th>mfcc16_var</th>\n",
       "      <th>mfcc17_mean</th>\n",
       "      <th>mfcc17_var</th>\n",
       "      <th>mfcc18_mean</th>\n",
       "      <th>mfcc18_var</th>\n",
       "      <th>mfcc19_mean</th>\n",
       "      <th>mfcc19_var</th>\n",
       "      <th>mfcc20_mean</th>\n",
       "      <th>mfcc20_var</th>\n",
       "      <th>label</th>\n",
       "    </tr>\n",
       "  </thead>\n",
       "  <tbody>\n",
       "    <tr>\n",
       "      <th>0</th>\n",
       "      <td>blues.00000.0.wav</td>\n",
       "      <td>0.335406</td>\n",
       "      <td>0.091048</td>\n",
       "      <td>0.130405</td>\n",
       "      <td>0.003521</td>\n",
       "      <td>1773.065032</td>\n",
       "      <td>167541.630869</td>\n",
       "      <td>1972.744388</td>\n",
       "      <td>117335.771563</td>\n",
       "      <td>3714.560359</td>\n",
       "      <td>...</td>\n",
       "      <td>39.687145</td>\n",
       "      <td>-3.241280</td>\n",
       "      <td>36.488243</td>\n",
       "      <td>0.722209</td>\n",
       "      <td>38.099152</td>\n",
       "      <td>-5.050335</td>\n",
       "      <td>33.618073</td>\n",
       "      <td>-0.243027</td>\n",
       "      <td>43.771767</td>\n",
       "      <td>blues</td>\n",
       "    </tr>\n",
       "    <tr>\n",
       "      <th>1</th>\n",
       "      <td>blues.00000.1.wav</td>\n",
       "      <td>0.343065</td>\n",
       "      <td>0.086147</td>\n",
       "      <td>0.112699</td>\n",
       "      <td>0.001450</td>\n",
       "      <td>1816.693777</td>\n",
       "      <td>90525.690866</td>\n",
       "      <td>2010.051501</td>\n",
       "      <td>65671.875673</td>\n",
       "      <td>3869.682242</td>\n",
       "      <td>...</td>\n",
       "      <td>64.748276</td>\n",
       "      <td>-6.055294</td>\n",
       "      <td>40.677654</td>\n",
       "      <td>0.159015</td>\n",
       "      <td>51.264091</td>\n",
       "      <td>-2.837699</td>\n",
       "      <td>97.030830</td>\n",
       "      <td>5.784063</td>\n",
       "      <td>59.943081</td>\n",
       "      <td>blues</td>\n",
       "    </tr>\n",
       "    <tr>\n",
       "      <th>2</th>\n",
       "      <td>blues.00000.2.wav</td>\n",
       "      <td>0.346815</td>\n",
       "      <td>0.092243</td>\n",
       "      <td>0.132003</td>\n",
       "      <td>0.004620</td>\n",
       "      <td>1788.539719</td>\n",
       "      <td>111407.437613</td>\n",
       "      <td>2084.565132</td>\n",
       "      <td>75124.921716</td>\n",
       "      <td>3997.639160</td>\n",
       "      <td>...</td>\n",
       "      <td>67.336563</td>\n",
       "      <td>-1.768610</td>\n",
       "      <td>28.348579</td>\n",
       "      <td>2.378768</td>\n",
       "      <td>45.717648</td>\n",
       "      <td>-1.938424</td>\n",
       "      <td>53.050835</td>\n",
       "      <td>2.517375</td>\n",
       "      <td>33.105122</td>\n",
       "      <td>blues</td>\n",
       "    </tr>\n",
       "    <tr>\n",
       "      <th>3</th>\n",
       "      <td>blues.00000.3.wav</td>\n",
       "      <td>0.363639</td>\n",
       "      <td>0.086856</td>\n",
       "      <td>0.132565</td>\n",
       "      <td>0.002448</td>\n",
       "      <td>1655.289045</td>\n",
       "      <td>111952.284517</td>\n",
       "      <td>1960.039988</td>\n",
       "      <td>82913.639269</td>\n",
       "      <td>3568.300218</td>\n",
       "      <td>...</td>\n",
       "      <td>47.739452</td>\n",
       "      <td>-3.841155</td>\n",
       "      <td>28.337118</td>\n",
       "      <td>1.218588</td>\n",
       "      <td>34.770935</td>\n",
       "      <td>-3.580352</td>\n",
       "      <td>50.836224</td>\n",
       "      <td>3.630866</td>\n",
       "      <td>32.023678</td>\n",
       "      <td>blues</td>\n",
       "    </tr>\n",
       "    <tr>\n",
       "      <th>4</th>\n",
       "      <td>blues.00000.4.wav</td>\n",
       "      <td>0.335579</td>\n",
       "      <td>0.088129</td>\n",
       "      <td>0.143289</td>\n",
       "      <td>0.001701</td>\n",
       "      <td>1630.656199</td>\n",
       "      <td>79667.267654</td>\n",
       "      <td>1948.503884</td>\n",
       "      <td>60204.020268</td>\n",
       "      <td>3469.992864</td>\n",
       "      <td>...</td>\n",
       "      <td>30.336359</td>\n",
       "      <td>0.664582</td>\n",
       "      <td>45.880913</td>\n",
       "      <td>1.689446</td>\n",
       "      <td>51.363583</td>\n",
       "      <td>-3.392489</td>\n",
       "      <td>26.738789</td>\n",
       "      <td>0.536961</td>\n",
       "      <td>29.146694</td>\n",
       "      <td>blues</td>\n",
       "    </tr>\n",
       "    <tr>\n",
       "      <th>...</th>\n",
       "      <td>...</td>\n",
       "      <td>...</td>\n",
       "      <td>...</td>\n",
       "      <td>...</td>\n",
       "      <td>...</td>\n",
       "      <td>...</td>\n",
       "      <td>...</td>\n",
       "      <td>...</td>\n",
       "      <td>...</td>\n",
       "      <td>...</td>\n",
       "      <td>...</td>\n",
       "      <td>...</td>\n",
       "      <td>...</td>\n",
       "      <td>...</td>\n",
       "      <td>...</td>\n",
       "      <td>...</td>\n",
       "      <td>...</td>\n",
       "      <td>...</td>\n",
       "      <td>...</td>\n",
       "      <td>...</td>\n",
       "      <td>...</td>\n",
       "    </tr>\n",
       "    <tr>\n",
       "      <th>9985</th>\n",
       "      <td>rock.00099.5.wav</td>\n",
       "      <td>0.349126</td>\n",
       "      <td>0.080515</td>\n",
       "      <td>0.050019</td>\n",
       "      <td>0.000097</td>\n",
       "      <td>1499.083005</td>\n",
       "      <td>164266.886443</td>\n",
       "      <td>1718.707215</td>\n",
       "      <td>85931.574523</td>\n",
       "      <td>3015.559458</td>\n",
       "      <td>...</td>\n",
       "      <td>42.485981</td>\n",
       "      <td>-9.094270</td>\n",
       "      <td>38.326839</td>\n",
       "      <td>-4.246976</td>\n",
       "      <td>31.049839</td>\n",
       "      <td>-5.625813</td>\n",
       "      <td>48.804092</td>\n",
       "      <td>1.818823</td>\n",
       "      <td>38.966969</td>\n",
       "      <td>rock</td>\n",
       "    </tr>\n",
       "    <tr>\n",
       "      <th>9986</th>\n",
       "      <td>rock.00099.6.wav</td>\n",
       "      <td>0.372564</td>\n",
       "      <td>0.082626</td>\n",
       "      <td>0.057897</td>\n",
       "      <td>0.000088</td>\n",
       "      <td>1847.965128</td>\n",
       "      <td>281054.935973</td>\n",
       "      <td>1906.468492</td>\n",
       "      <td>99727.037054</td>\n",
       "      <td>3746.694524</td>\n",
       "      <td>...</td>\n",
       "      <td>32.415203</td>\n",
       "      <td>-12.375726</td>\n",
       "      <td>66.418587</td>\n",
       "      <td>-3.081278</td>\n",
       "      <td>54.414265</td>\n",
       "      <td>-11.960546</td>\n",
       "      <td>63.452255</td>\n",
       "      <td>0.428857</td>\n",
       "      <td>18.697033</td>\n",
       "      <td>rock</td>\n",
       "    </tr>\n",
       "    <tr>\n",
       "      <th>9987</th>\n",
       "      <td>rock.00099.7.wav</td>\n",
       "      <td>0.347481</td>\n",
       "      <td>0.089019</td>\n",
       "      <td>0.052403</td>\n",
       "      <td>0.000701</td>\n",
       "      <td>1346.157659</td>\n",
       "      <td>662956.246325</td>\n",
       "      <td>1561.859087</td>\n",
       "      <td>138762.841945</td>\n",
       "      <td>2442.362154</td>\n",
       "      <td>...</td>\n",
       "      <td>78.228149</td>\n",
       "      <td>-2.524483</td>\n",
       "      <td>21.778994</td>\n",
       "      <td>4.809936</td>\n",
       "      <td>25.980829</td>\n",
       "      <td>1.775686</td>\n",
       "      <td>48.582378</td>\n",
       "      <td>-0.299545</td>\n",
       "      <td>41.586990</td>\n",
       "      <td>rock</td>\n",
       "    </tr>\n",
       "    <tr>\n",
       "      <th>9988</th>\n",
       "      <td>rock.00099.8.wav</td>\n",
       "      <td>0.387527</td>\n",
       "      <td>0.084815</td>\n",
       "      <td>0.066430</td>\n",
       "      <td>0.000320</td>\n",
       "      <td>2084.515327</td>\n",
       "      <td>203891.039161</td>\n",
       "      <td>2018.366254</td>\n",
       "      <td>22860.992562</td>\n",
       "      <td>4313.266226</td>\n",
       "      <td>...</td>\n",
       "      <td>28.323744</td>\n",
       "      <td>-5.363541</td>\n",
       "      <td>17.209942</td>\n",
       "      <td>6.462601</td>\n",
       "      <td>21.442928</td>\n",
       "      <td>2.354765</td>\n",
       "      <td>24.843613</td>\n",
       "      <td>0.675824</td>\n",
       "      <td>12.787750</td>\n",
       "      <td>rock</td>\n",
       "    </tr>\n",
       "    <tr>\n",
       "      <th>9989</th>\n",
       "      <td>rock.00099.9.wav</td>\n",
       "      <td>0.369293</td>\n",
       "      <td>0.086759</td>\n",
       "      <td>0.050524</td>\n",
       "      <td>0.000067</td>\n",
       "      <td>1634.330126</td>\n",
       "      <td>411429.169769</td>\n",
       "      <td>1867.422378</td>\n",
       "      <td>119722.211518</td>\n",
       "      <td>3462.042142</td>\n",
       "      <td>...</td>\n",
       "      <td>38.801735</td>\n",
       "      <td>-11.598399</td>\n",
       "      <td>58.983097</td>\n",
       "      <td>-0.178517</td>\n",
       "      <td>55.761299</td>\n",
       "      <td>-6.903252</td>\n",
       "      <td>39.485901</td>\n",
       "      <td>-3.412534</td>\n",
       "      <td>31.727489</td>\n",
       "      <td>rock</td>\n",
       "    </tr>\n",
       "  </tbody>\n",
       "</table>\n",
       "<p>9990 rows × 59 columns</p>\n",
       "</div>"
      ],
      "text/plain": [
       "               filename  chroma_stft_mean  chroma_stft_var  rms_mean  \\\n",
       "0     blues.00000.0.wav          0.335406         0.091048  0.130405   \n",
       "1     blues.00000.1.wav          0.343065         0.086147  0.112699   \n",
       "2     blues.00000.2.wav          0.346815         0.092243  0.132003   \n",
       "3     blues.00000.3.wav          0.363639         0.086856  0.132565   \n",
       "4     blues.00000.4.wav          0.335579         0.088129  0.143289   \n",
       "...                 ...               ...              ...       ...   \n",
       "9985   rock.00099.5.wav          0.349126         0.080515  0.050019   \n",
       "9986   rock.00099.6.wav          0.372564         0.082626  0.057897   \n",
       "9987   rock.00099.7.wav          0.347481         0.089019  0.052403   \n",
       "9988   rock.00099.8.wav          0.387527         0.084815  0.066430   \n",
       "9989   rock.00099.9.wav          0.369293         0.086759  0.050524   \n",
       "\n",
       "       rms_var  spectral_centroid_mean  spectral_centroid_var  \\\n",
       "0     0.003521             1773.065032          167541.630869   \n",
       "1     0.001450             1816.693777           90525.690866   \n",
       "2     0.004620             1788.539719          111407.437613   \n",
       "3     0.002448             1655.289045          111952.284517   \n",
       "4     0.001701             1630.656199           79667.267654   \n",
       "...        ...                     ...                    ...   \n",
       "9985  0.000097             1499.083005          164266.886443   \n",
       "9986  0.000088             1847.965128          281054.935973   \n",
       "9987  0.000701             1346.157659          662956.246325   \n",
       "9988  0.000320             2084.515327          203891.039161   \n",
       "9989  0.000067             1634.330126          411429.169769   \n",
       "\n",
       "      spectral_bandwidth_mean  spectral_bandwidth_var  rolloff_mean  ...  \\\n",
       "0                 1972.744388           117335.771563   3714.560359  ...   \n",
       "1                 2010.051501            65671.875673   3869.682242  ...   \n",
       "2                 2084.565132            75124.921716   3997.639160  ...   \n",
       "3                 1960.039988            82913.639269   3568.300218  ...   \n",
       "4                 1948.503884            60204.020268   3469.992864  ...   \n",
       "...                       ...                     ...           ...  ...   \n",
       "9985              1718.707215            85931.574523   3015.559458  ...   \n",
       "9986              1906.468492            99727.037054   3746.694524  ...   \n",
       "9987              1561.859087           138762.841945   2442.362154  ...   \n",
       "9988              2018.366254            22860.992562   4313.266226  ...   \n",
       "9989              1867.422378           119722.211518   3462.042142  ...   \n",
       "\n",
       "      mfcc16_var  mfcc17_mean  mfcc17_var  mfcc18_mean  mfcc18_var  \\\n",
       "0      39.687145    -3.241280   36.488243     0.722209   38.099152   \n",
       "1      64.748276    -6.055294   40.677654     0.159015   51.264091   \n",
       "2      67.336563    -1.768610   28.348579     2.378768   45.717648   \n",
       "3      47.739452    -3.841155   28.337118     1.218588   34.770935   \n",
       "4      30.336359     0.664582   45.880913     1.689446   51.363583   \n",
       "...          ...          ...         ...          ...         ...   \n",
       "9985   42.485981    -9.094270   38.326839    -4.246976   31.049839   \n",
       "9986   32.415203   -12.375726   66.418587    -3.081278   54.414265   \n",
       "9987   78.228149    -2.524483   21.778994     4.809936   25.980829   \n",
       "9988   28.323744    -5.363541   17.209942     6.462601   21.442928   \n",
       "9989   38.801735   -11.598399   58.983097    -0.178517   55.761299   \n",
       "\n",
       "      mfcc19_mean  mfcc19_var  mfcc20_mean  mfcc20_var  label  \n",
       "0       -5.050335   33.618073    -0.243027   43.771767  blues  \n",
       "1       -2.837699   97.030830     5.784063   59.943081  blues  \n",
       "2       -1.938424   53.050835     2.517375   33.105122  blues  \n",
       "3       -3.580352   50.836224     3.630866   32.023678  blues  \n",
       "4       -3.392489   26.738789     0.536961   29.146694  blues  \n",
       "...           ...         ...          ...         ...    ...  \n",
       "9985    -5.625813   48.804092     1.818823   38.966969   rock  \n",
       "9986   -11.960546   63.452255     0.428857   18.697033   rock  \n",
       "9987     1.775686   48.582378    -0.299545   41.586990   rock  \n",
       "9988     2.354765   24.843613     0.675824   12.787750   rock  \n",
       "9989    -6.903252   39.485901    -3.412534   31.727489   rock  \n",
       "\n",
       "[9990 rows x 59 columns]"
      ]
     },
     "execution_count": 26,
     "metadata": {},
     "output_type": "execute_result"
    }
   ],
   "source": [
    "df"
   ]
  },
  {
   "cell_type": "code",
   "execution_count": 27,
   "id": "4252e030-d1b2-4b16-af0d-3ecf279629e9",
   "metadata": {},
   "outputs": [
    {
     "data": {
      "text/plain": [
       "'blues.00000.0.wav'"
      ]
     },
     "execution_count": 27,
     "metadata": {},
     "output_type": "execute_result"
    }
   ],
   "source": [
    "df[\"filename\"][0]"
   ]
  },
  {
   "cell_type": "code",
   "execution_count": 28,
   "id": "a6c5dfc9-0a98-4f8c-beee-32c2820207c3",
   "metadata": {},
   "outputs": [],
   "source": [
    "df[\"filename\"] = df[\"filename\"].str[:-6]"
   ]
  },
  {
   "cell_type": "code",
   "execution_count": 29,
   "id": "6674ecc6-15ce-486c-81a9-912d28d72ac8",
   "metadata": {},
   "outputs": [
    {
     "data": {
      "text/plain": [
       "1000"
      ]
     },
     "execution_count": 29,
     "metadata": {},
     "output_type": "execute_result"
    }
   ],
   "source": [
    "len(df[\"filename\"].unique())"
   ]
  },
  {
   "cell_type": "code",
   "execution_count": 30,
   "id": "1f8412ba-408d-441b-826a-ec9ffcea0f0d",
   "metadata": {},
   "outputs": [],
   "source": [
    "temp = pd.DataFrame(df[\"filename\"].value_counts())"
   ]
  },
  {
   "cell_type": "code",
   "execution_count": 31,
   "id": "bd4a5cd4-5642-4e16-8735-f7425aec2d9d",
   "metadata": {},
   "outputs": [
    {
     "data": {
      "text/html": [
       "<div>\n",
       "<style scoped>\n",
       "    .dataframe tbody tr th:only-of-type {\n",
       "        vertical-align: middle;\n",
       "    }\n",
       "\n",
       "    .dataframe tbody tr th {\n",
       "        vertical-align: top;\n",
       "    }\n",
       "\n",
       "    .dataframe thead th {\n",
       "        text-align: right;\n",
       "    }\n",
       "</style>\n",
       "<table border=\"1\" class=\"dataframe\">\n",
       "  <thead>\n",
       "    <tr style=\"text-align: right;\">\n",
       "      <th></th>\n",
       "      <th>count</th>\n",
       "    </tr>\n",
       "    <tr>\n",
       "      <th>filename</th>\n",
       "      <th></th>\n",
       "    </tr>\n",
       "  </thead>\n",
       "  <tbody>\n",
       "    <tr>\n",
       "      <th>hiphop.00031</th>\n",
       "      <td>9</td>\n",
       "    </tr>\n",
       "    <tr>\n",
       "      <th>rock.00038</th>\n",
       "      <td>9</td>\n",
       "    </tr>\n",
       "    <tr>\n",
       "      <th>country.00004</th>\n",
       "      <td>9</td>\n",
       "    </tr>\n",
       "    <tr>\n",
       "      <th>rock.00027</th>\n",
       "      <td>9</td>\n",
       "    </tr>\n",
       "    <tr>\n",
       "      <th>country.00003</th>\n",
       "      <td>9</td>\n",
       "    </tr>\n",
       "    <tr>\n",
       "      <th>classical.00051</th>\n",
       "      <td>9</td>\n",
       "    </tr>\n",
       "    <tr>\n",
       "      <th>country.00007</th>\n",
       "      <td>9</td>\n",
       "    </tr>\n",
       "    <tr>\n",
       "      <th>classical.00049</th>\n",
       "      <td>9</td>\n",
       "    </tr>\n",
       "    <tr>\n",
       "      <th>hiphop.00032</th>\n",
       "      <td>9</td>\n",
       "    </tr>\n",
       "    <tr>\n",
       "      <th>disco.00014</th>\n",
       "      <td>9</td>\n",
       "    </tr>\n",
       "  </tbody>\n",
       "</table>\n",
       "</div>"
      ],
      "text/plain": [
       "                 count\n",
       "filename              \n",
       "hiphop.00031         9\n",
       "rock.00038           9\n",
       "country.00004        9\n",
       "rock.00027           9\n",
       "country.00003        9\n",
       "classical.00051      9\n",
       "country.00007        9\n",
       "classical.00049      9\n",
       "hiphop.00032         9\n",
       "disco.00014          9"
      ]
     },
     "execution_count": 31,
     "metadata": {},
     "output_type": "execute_result"
    }
   ],
   "source": [
    "temp[temp[\"count\"] != 10]"
   ]
  },
  {
   "cell_type": "code",
   "execution_count": 32,
   "id": "fcd51578-66ef-41ee-b1b5-f547f4ab8338",
   "metadata": {},
   "outputs": [
    {
     "data": {
      "text/plain": [
       "label\n",
       "blues        1000\n",
       "jazz         1000\n",
       "metal        1000\n",
       "pop          1000\n",
       "reggae       1000\n",
       "disco         999\n",
       "classical     998\n",
       "hiphop        998\n",
       "rock          998\n",
       "country       997\n",
       "Name: count, dtype: int64"
      ]
     },
     "execution_count": 32,
     "metadata": {},
     "output_type": "execute_result"
    }
   ],
   "source": [
    "df.label.value_counts()"
   ]
  },
  {
   "cell_type": "code",
   "execution_count": 33,
   "id": "e00e945c-8433-4714-ba05-badf168ef18b",
   "metadata": {},
   "outputs": [
    {
     "data": {
      "text/plain": [
       "'rock.00099'"
      ]
     },
     "execution_count": 33,
     "metadata": {},
     "output_type": "execute_result"
    }
   ],
   "source": [
    "df[\"filename\"][9989]"
   ]
  },
  {
   "cell_type": "code",
   "execution_count": 34,
   "id": "cd7a6b49-97f8-4213-a1b6-f5a14318a6f0",
   "metadata": {},
   "outputs": [
    {
     "data": {
      "text/plain": [
       "(2000, 59)"
      ]
     },
     "execution_count": 34,
     "metadata": {},
     "output_type": "execute_result"
    }
   ],
   "source": [
    "test = pd.DataFrame(columns=df.columns)\n",
    "\n",
    "# Iterate through unique labels and filter rows for the 98th and 99th files\n",
    "for label in df[\"label\"].unique():\n",
    "    label_df = df[df['label'] == label].iloc[-200:]\n",
    "    test = pd.concat([test, label_df], ignore_index=True)\n",
    "\n",
    "test.shape\n"
   ]
  },
  {
   "cell_type": "code",
   "execution_count": 35,
   "id": "4569d2eb-90ef-4a81-a903-3abb74061605",
   "metadata": {},
   "outputs": [
    {
     "data": {
      "text/plain": [
       "200"
      ]
     },
     "execution_count": 35,
     "metadata": {},
     "output_type": "execute_result"
    }
   ],
   "source": [
    "len(test[\"filename\"].unique())"
   ]
  },
  {
   "cell_type": "code",
   "execution_count": 36,
   "id": "8f5c3151-c4c4-4044-80e7-b02e95eb731c",
   "metadata": {},
   "outputs": [],
   "source": [
    "test_set_value_count_df = pd.DataFrame(test[\"filename\"].value_counts())"
   ]
  },
  {
   "cell_type": "code",
   "execution_count": 37,
   "id": "75080546-3845-4dca-834f-5d847d22ef3a",
   "metadata": {},
   "outputs": [
    {
     "data": {
      "text/html": [
       "<div>\n",
       "<style scoped>\n",
       "    .dataframe tbody tr th:only-of-type {\n",
       "        vertical-align: middle;\n",
       "    }\n",
       "\n",
       "    .dataframe tbody tr th {\n",
       "        vertical-align: top;\n",
       "    }\n",
       "\n",
       "    .dataframe thead th {\n",
       "        text-align: right;\n",
       "    }\n",
       "</style>\n",
       "<table border=\"1\" class=\"dataframe\">\n",
       "  <thead>\n",
       "    <tr style=\"text-align: right;\">\n",
       "      <th></th>\n",
       "      <th>count</th>\n",
       "    </tr>\n",
       "    <tr>\n",
       "      <th>filename</th>\n",
       "      <th></th>\n",
       "    </tr>\n",
       "  </thead>\n",
       "  <tbody>\n",
       "    <tr>\n",
       "      <th>blues.00080</th>\n",
       "      <td>10</td>\n",
       "    </tr>\n",
       "    <tr>\n",
       "      <th>metal.00097</th>\n",
       "      <td>10</td>\n",
       "    </tr>\n",
       "    <tr>\n",
       "      <th>metal.00087</th>\n",
       "      <td>10</td>\n",
       "    </tr>\n",
       "    <tr>\n",
       "      <th>metal.00088</th>\n",
       "      <td>10</td>\n",
       "    </tr>\n",
       "    <tr>\n",
       "      <th>metal.00089</th>\n",
       "      <td>10</td>\n",
       "    </tr>\n",
       "    <tr>\n",
       "      <th>...</th>\n",
       "      <td>...</td>\n",
       "    </tr>\n",
       "    <tr>\n",
       "      <th>disco.00089</th>\n",
       "      <td>10</td>\n",
       "    </tr>\n",
       "    <tr>\n",
       "      <th>disco.00090</th>\n",
       "      <td>10</td>\n",
       "    </tr>\n",
       "    <tr>\n",
       "      <th>disco.00091</th>\n",
       "      <td>10</td>\n",
       "    </tr>\n",
       "    <tr>\n",
       "      <th>disco.00092</th>\n",
       "      <td>10</td>\n",
       "    </tr>\n",
       "    <tr>\n",
       "      <th>rock.00099</th>\n",
       "      <td>10</td>\n",
       "    </tr>\n",
       "  </tbody>\n",
       "</table>\n",
       "<p>200 rows × 1 columns</p>\n",
       "</div>"
      ],
      "text/plain": [
       "             count\n",
       "filename          \n",
       "blues.00080     10\n",
       "metal.00097     10\n",
       "metal.00087     10\n",
       "metal.00088     10\n",
       "metal.00089     10\n",
       "...            ...\n",
       "disco.00089     10\n",
       "disco.00090     10\n",
       "disco.00091     10\n",
       "disco.00092     10\n",
       "rock.00099      10\n",
       "\n",
       "[200 rows x 1 columns]"
      ]
     },
     "execution_count": 37,
     "metadata": {},
     "output_type": "execute_result"
    }
   ],
   "source": [
    "test_set_value_count_df"
   ]
  },
  {
   "cell_type": "code",
   "execution_count": 38,
   "id": "399d557c-a284-4afe-8604-bfccad9d6faa",
   "metadata": {},
   "outputs": [
    {
     "data": {
      "text/plain": [
       "count\n",
       "10    200\n",
       "Name: count, dtype: int64"
      ]
     },
     "execution_count": 38,
     "metadata": {},
     "output_type": "execute_result"
    }
   ],
   "source": [
    "test_set_value_count_df[\"count\"].value_counts()"
   ]
  },
  {
   "cell_type": "code",
   "execution_count": 39,
   "id": "c1b4ea5e-fc6a-4c2d-9f1e-dff705a4af16",
   "metadata": {},
   "outputs": [
    {
     "data": {
      "text/plain": [
       "label\n",
       "blues        200\n",
       "classical    200\n",
       "country      200\n",
       "disco        200\n",
       "hiphop       200\n",
       "jazz         200\n",
       "metal        200\n",
       "pop          200\n",
       "reggae       200\n",
       "rock         200\n",
       "Name: count, dtype: int64"
      ]
     },
     "execution_count": 39,
     "metadata": {},
     "output_type": "execute_result"
    }
   ],
   "source": [
    "test[\"label\"].value_counts()"
   ]
  },
  {
   "cell_type": "code",
   "execution_count": 40,
   "id": "5b6077f5-c6f0-4f83-9055-1e61de06f89f",
   "metadata": {},
   "outputs": [
    {
     "data": {
      "text/plain": [
       "(7990, 59)"
      ]
     },
     "execution_count": 40,
     "metadata": {},
     "output_type": "execute_result"
    }
   ],
   "source": [
    "import pandas as pd\n",
    "\n",
    "# Assuming you have the original 'df' and 'test_df' DataFrames\n",
    "\n",
    "# Merge the 'df' and 'test_df' DataFrames with the '_merge' indicator\n",
    "merged_df = df.merge(test, on=df.columns.to_list(), how='left', indicator=True)\n",
    "\n",
    "# Select rows that are only in the 'df' by filtering on the '_merge' column\n",
    "train_df = merged_df[merged_df['_merge'] == 'left_only'].drop(columns=['_merge'])\n",
    "\n",
    "# Reset the index of the 'train_df' if needed\n",
    "train_df.reset_index(drop=True, inplace=True)\n",
    "\n",
    "train_df.shape\n"
   ]
  },
  {
   "cell_type": "code",
   "execution_count": 41,
   "id": "f7977e43-ab2b-4034-afae-125e4adc50c8",
   "metadata": {},
   "outputs": [],
   "source": [
    "encoder = prp.LabelEncoder()\n",
    "X_train = train_df.drop([\"filename\", \"label\"], axis = 1)\n",
    "y_train = encoder.fit_transform(train_df[\"label\"])"
   ]
  },
  {
   "cell_type": "code",
   "execution_count": 42,
   "id": "1329bf71-6e79-4c79-953f-45b6e74dcb56",
   "metadata": {},
   "outputs": [],
   "source": [
    "X_test = test.drop([\"filename\", \"label\"], axis = 1)\n",
    "y_test = encoder.fit_transform(test[\"label\"])"
   ]
  },
  {
   "cell_type": "code",
   "execution_count": 43,
   "id": "f5050aeb-4892-4085-8bd4-0eec94529df7",
   "metadata": {},
   "outputs": [],
   "source": [
    "min_max_scaler = prp.MinMaxScaler()\n",
    "X_train_min_max_scaled = min_max_scaler.fit_transform(X_train)\n",
    "X_test_min_max_scaled = min_max_scaler.transform(X_test)"
   ]
  },
  {
   "cell_type": "code",
   "execution_count": 44,
   "id": "75165763-e13e-4e1c-9350-869fbbccd205",
   "metadata": {},
   "outputs": [
    {
     "data": {
      "text/plain": [
       "array([0, 0, 0, ..., 9, 9, 9])"
      ]
     },
     "execution_count": 44,
     "metadata": {},
     "output_type": "execute_result"
    }
   ],
   "source": [
    "y_test"
   ]
  },
  {
   "cell_type": "code",
   "execution_count": 45,
   "id": "aff35be8-34a9-4784-84d0-8fa8cfdebee3",
   "metadata": {},
   "outputs": [
    {
     "name": "stdout",
     "output_type": "stream",
     "text": [
      "xgb_no_scale_no_leak Accuracy: 0.4725 \n",
      "\n"
     ]
    }
   ],
   "source": [
    "model_assess(\"xgb_no_scale_no_leak\", model, X_train, X_test)"
   ]
  },
  {
   "cell_type": "code",
   "execution_count": 46,
   "id": "0c03494f-87d7-47e8-853a-5d2c4fab5494",
   "metadata": {},
   "outputs": [
    {
     "name": "stdout",
     "output_type": "stream",
     "text": [
      "xgb_min_max_scale_no_leak Accuracy: 0.471 \n",
      "\n"
     ]
    }
   ],
   "source": [
    "model_assess(\"xgb_min_max_scale_no_leak\", model, X_train_min_max_scaled, X_test_min_max_scaled)"
   ]
  },
  {
   "cell_type": "code",
   "execution_count": 57,
   "id": "3476f3e0-d2a3-4717-9467-2e0d039510bf",
   "metadata": {},
   "outputs": [
    {
     "data": {
      "text/html": [
       "<div>\n",
       "<style scoped>\n",
       "    .dataframe tbody tr th:only-of-type {\n",
       "        vertical-align: middle;\n",
       "    }\n",
       "\n",
       "    .dataframe tbody tr th {\n",
       "        vertical-align: top;\n",
       "    }\n",
       "\n",
       "    .dataframe thead th {\n",
       "        text-align: right;\n",
       "    }\n",
       "</style>\n",
       "<table border=\"1\" class=\"dataframe\">\n",
       "  <thead>\n",
       "    <tr style=\"text-align: right;\">\n",
       "      <th></th>\n",
       "      <th>Accuracy</th>\n",
       "    </tr>\n",
       "  </thead>\n",
       "  <tbody>\n",
       "    <tr>\n",
       "      <th>xgb_no_scale</th>\n",
       "      <td>0.86420</td>\n",
       "    </tr>\n",
       "    <tr>\n",
       "      <th>xgb_std_scale</th>\n",
       "      <td>0.86420</td>\n",
       "    </tr>\n",
       "    <tr>\n",
       "      <th>xgb_max_abs_scale</th>\n",
       "      <td>0.86420</td>\n",
       "    </tr>\n",
       "    <tr>\n",
       "      <th>xgb_min_max_scale</th>\n",
       "      <td>0.86453</td>\n",
       "    </tr>\n",
       "    <tr>\n",
       "      <th>xgb_no_scale_no_leak</th>\n",
       "      <td>0.47250</td>\n",
       "    </tr>\n",
       "    <tr>\n",
       "      <th>xgb_min_max_scale_no_leak</th>\n",
       "      <td>0.47100</td>\n",
       "    </tr>\n",
       "    <tr>\n",
       "      <th>ANN_min_max_scaled_no_leak</th>\n",
       "      <td>0.45750</td>\n",
       "    </tr>\n",
       "  </tbody>\n",
       "</table>\n",
       "</div>"
      ],
      "text/plain": [
       "                            Accuracy\n",
       "xgb_no_scale                 0.86420\n",
       "xgb_std_scale                0.86420\n",
       "xgb_max_abs_scale            0.86420\n",
       "xgb_min_max_scale            0.86453\n",
       "xgb_no_scale_no_leak         0.47250\n",
       "xgb_min_max_scale_no_leak    0.47100\n",
       "ANN_min_max_scaled_no_leak   0.45750"
      ]
     },
     "execution_count": 57,
     "metadata": {},
     "output_type": "execute_result"
    }
   ],
   "source": [
    "target"
   ]
  },
  {
   "cell_type": "code",
   "execution_count": 48,
   "id": "2fe4959d-fa05-4c03-951f-e75644133790",
   "metadata": {},
   "outputs": [
    {
     "name": "stderr",
     "output_type": "stream",
     "text": [
      "2023-10-25 11:11:54.954063: I tensorflow/tsl/cuda/cudart_stub.cc:28] Could not find cuda drivers on your machine, GPU will not be used.\n",
      "2023-10-25 11:11:57.081271: E tensorflow/compiler/xla/stream_executor/cuda/cuda_dnn.cc:9342] Unable to register cuDNN factory: Attempting to register factory for plugin cuDNN when one has already been registered\n",
      "2023-10-25 11:11:57.081326: E tensorflow/compiler/xla/stream_executor/cuda/cuda_fft.cc:609] Unable to register cuFFT factory: Attempting to register factory for plugin cuFFT when one has already been registered\n",
      "2023-10-25 11:11:57.084309: E tensorflow/compiler/xla/stream_executor/cuda/cuda_blas.cc:1518] Unable to register cuBLAS factory: Attempting to register factory for plugin cuBLAS when one has already been registered\n",
      "2023-10-25 11:11:57.926967: I tensorflow/tsl/cuda/cudart_stub.cc:28] Could not find cuda drivers on your machine, GPU will not be used.\n",
      "2023-10-25 11:11:57.928049: I tensorflow/core/platform/cpu_feature_guard.cc:182] This TensorFlow binary is optimized to use available CPU instructions in performance-critical operations.\n",
      "To enable the following instructions: AVX2 FMA, in other operations, rebuild TensorFlow with the appropriate compiler flags.\n",
      "2023-10-25 11:12:01.307554: W tensorflow/compiler/tf2tensorrt/utils/py_utils.cc:38] TF-TRT Warning: Could not find TensorRT\n"
     ]
    }
   ],
   "source": [
    "from tensorflow import keras\n",
    "from keras.models import Sequential\n",
    "model_cnn = keras.models.Sequential([\n",
    "    keras.layers.Dense(2048, activation=\"relu\", input_shape=(X_train.shape[1],)),\n",
    "    keras.layers.Dropout(0.2),\n",
    "\n",
    "    keras.layers.Dense(1024,activation=\"relu\"),\n",
    "    keras.layers.Dropout(0.2),\n",
    "\n",
    "    keras.layers.Dense(512,activation=\"relu\"),\n",
    "    keras.layers.Dropout(0.2),\n",
    "    \n",
    "    keras.layers.Dense(256,activation=\"relu\"),\n",
    "    keras.layers.Dropout(0.2),\n",
    "    \n",
    "    keras.layers.Dense(128,activation=\"relu\"),\n",
    "    keras.layers.Dropout(0.2),\n",
    "    \n",
    "    keras.layers.Dense(64,activation=\"relu\"),\n",
    "    keras.layers.Dropout(0.2),\n",
    "    \n",
    "    keras.layers.Dense(10, activation=\"softmax\"),\n",
    "    \n",
    "])"
   ]
  },
  {
   "cell_type": "code",
   "execution_count": 53,
   "id": "be5fa7aa-31ea-4082-8a63-cf0d99005f7f",
   "metadata": {},
   "outputs": [
    {
     "data": {
      "text/plain": [
       "<keras.src.callbacks.History at 0x7efc066939a0>"
      ]
     },
     "execution_count": 53,
     "metadata": {},
     "output_type": "execute_result"
    }
   ],
   "source": [
    "model_cnn.compile(optimizer=\"adam\", loss='sparse_categorical_crossentropy', metrics='accuracy')\n",
    "model_cnn.fit(X_train_min_max_scaled, y_train, validation_split=0.2, epochs=100, batch_size=32, verbose = 0)"
   ]
  },
  {
   "cell_type": "code",
   "execution_count": 54,
   "id": "04839bb0-6b8e-448f-9614-dcf28d8fc297",
   "metadata": {},
   "outputs": [
    {
     "name": "stdout",
     "output_type": "stream",
     "text": [
      "16/16 [==============================] - 0s 10ms/step - loss: 17.3512 - accuracy: 0.4575\n",
      "The test loss is : 17.3511905670166\n",
      "\n",
      "The test Accuracy is : 45.750001072883606\n"
     ]
    }
   ],
   "source": [
    "test_loss, test_accuracy = model_cnn.evaluate(X_test_min_max_scaled, y_test, batch_size=128)\n",
    "print(\"The test loss is :\",test_loss)\n",
    "print(\"\\nThe test Accuracy is :\",test_accuracy*100)"
   ]
  },
  {
   "cell_type": "code",
   "execution_count": 55,
   "id": "c728443e-e825-42a0-916f-9cab17705775",
   "metadata": {},
   "outputs": [],
   "source": [
    "target.loc[\"ANN_min_max_scaled_no_leak\", \"Accuracy\"] = test_accuracy"
   ]
  },
  {
   "cell_type": "code",
   "execution_count": 56,
   "id": "39e5dd27-5cf7-4466-bca4-25922a68efd8",
   "metadata": {},
   "outputs": [
    {
     "data": {
      "text/html": [
       "<div>\n",
       "<style scoped>\n",
       "    .dataframe tbody tr th:only-of-type {\n",
       "        vertical-align: middle;\n",
       "    }\n",
       "\n",
       "    .dataframe tbody tr th {\n",
       "        vertical-align: top;\n",
       "    }\n",
       "\n",
       "    .dataframe thead th {\n",
       "        text-align: right;\n",
       "    }\n",
       "</style>\n",
       "<table border=\"1\" class=\"dataframe\">\n",
       "  <thead>\n",
       "    <tr style=\"text-align: right;\">\n",
       "      <th></th>\n",
       "      <th>Accuracy</th>\n",
       "    </tr>\n",
       "  </thead>\n",
       "  <tbody>\n",
       "    <tr>\n",
       "      <th>xgb_no_scale</th>\n",
       "      <td>0.86420</td>\n",
       "    </tr>\n",
       "    <tr>\n",
       "      <th>xgb_std_scale</th>\n",
       "      <td>0.86420</td>\n",
       "    </tr>\n",
       "    <tr>\n",
       "      <th>xgb_max_abs_scale</th>\n",
       "      <td>0.86420</td>\n",
       "    </tr>\n",
       "    <tr>\n",
       "      <th>xgb_min_max_scale</th>\n",
       "      <td>0.86453</td>\n",
       "    </tr>\n",
       "    <tr>\n",
       "      <th>xgb_no_scale_no_leak</th>\n",
       "      <td>0.47250</td>\n",
       "    </tr>\n",
       "    <tr>\n",
       "      <th>xgb_min_max_scale_no_leak</th>\n",
       "      <td>0.47100</td>\n",
       "    </tr>\n",
       "    <tr>\n",
       "      <th>ANN_min_max_scaled_no_leak</th>\n",
       "      <td>0.45750</td>\n",
       "    </tr>\n",
       "  </tbody>\n",
       "</table>\n",
       "</div>"
      ],
      "text/plain": [
       "                            Accuracy\n",
       "xgb_no_scale                 0.86420\n",
       "xgb_std_scale                0.86420\n",
       "xgb_max_abs_scale            0.86420\n",
       "xgb_min_max_scale            0.86453\n",
       "xgb_no_scale_no_leak         0.47250\n",
       "xgb_min_max_scale_no_leak    0.47100\n",
       "ANN_min_max_scaled_no_leak   0.45750"
      ]
     },
     "execution_count": 56,
     "metadata": {},
     "output_type": "execute_result"
    }
   ],
   "source": [
    "target"
   ]
  }
 ],
 "metadata": {
  "kernelspec": {
   "display_name": "Python 3 (ipykernel)",
   "language": "python",
   "name": "python3"
  },
  "language_info": {
   "codemirror_mode": {
    "name": "ipython",
    "version": 3
   },
   "file_extension": ".py",
   "mimetype": "text/x-python",
   "name": "python",
   "nbconvert_exporter": "python",
   "pygments_lexer": "ipython3",
   "version": "3.10.8"
  }
 },
 "nbformat": 4,
 "nbformat_minor": 5
}
