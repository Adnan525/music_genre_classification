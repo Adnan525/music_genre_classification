{
 "cells": [
  {
   "cell_type": "code",
   "execution_count": 1,
   "id": "2e812534",
   "metadata": {
    "tags": []
   },
   "outputs": [],
   "source": [
    "import warnings\n",
    "warnings.filterwarnings(\"ignore\")"
   ]
  },
  {
   "cell_type": "code",
   "execution_count": 2,
   "id": "634763da-2097-4322-a4c8-43353ae113f1",
   "metadata": {
    "tags": []
   },
   "outputs": [],
   "source": [
    "import torch\n",
    "import torchvision\n",
    "import torchvision.transforms as transforms\n",
    "from sklearn.model_selection import train_test_split"
   ]
  },
  {
   "cell_type": "code",
   "execution_count": 6,
   "id": "fc01c518-35f8-4d7c-9e04-7da3a9fc420c",
   "metadata": {
    "tags": []
   },
   "outputs": [],
   "source": [
    "data_dir = \"music_genre_dataset/Data/images_original/\""
   ]
  },
  {
   "cell_type": "markdown",
   "id": "d5690643",
   "metadata": {},
   "source": [
    "# Alexnet"
   ]
  },
  {
   "cell_type": "code",
   "execution_count": 13,
   "id": "e933561e",
   "metadata": {},
   "outputs": [],
   "source": [
    "transform = transforms.Compose([\n",
    "    transforms.Resize((224, 224)),  # resize images for AlexNet\n",
    "    transforms.ToTensor(),\n",
    "    transforms.Normalize(mean=[0.485, 0.456, 0.406], std=[0.229, 0.224, 0.225])  # normalization\n",
    "])\n",
    "\n",
    "dataset = torchvision.datasets.ImageFolder(root=data_dir, transform=transform)\n",
    "labels = [label for _, label in dataset]\n",
    "\n",
    "train_data, test_data, train_label, test_label = train_test_split(dataset, labels, test_size=0.2, random_state=42, stratify=labels)\n",
    "\n",
    "\n",
    "# Create data loaders for training and testing\n",
    "batch_size = 32\n",
    "train_loader = torch.utils.data.DataLoader(train_data, batch_size=batch_size, shuffle=True)\n",
    "test_loader = torch.utils.data.DataLoader(test_data, batch_size=batch_size, shuffle=False)\n"
   ]
  },
  {
   "cell_type": "code",
   "execution_count": 10,
   "id": "77efa231",
   "metadata": {},
   "outputs": [],
   "source": [
    "model = torchvision.models.alexnet(pretrained=True)\n",
    "\n",
    "for param in model.parameters():\n",
    "    param.requires_grad = False\n",
    "model.classifier[6] = torch.nn.Linear(4096, 10)  # 10 classes\n"
   ]
  },
  {
   "cell_type": "code",
   "execution_count": 11,
   "id": "e0aa75c1",
   "metadata": {},
   "outputs": [],
   "source": [
    "criterion = torch.nn.CrossEntropyLoss()\n",
    "optimizer = torch.optim.Adam(model.parameters(), lr=0.001)"
   ]
  },
  {
   "cell_type": "code",
   "execution_count": 22,
   "id": "8e085bd4",
   "metadata": {},
   "outputs": [
    {
     "data": {
      "text/plain": [
       "device(type='cuda')"
      ]
     },
     "execution_count": 22,
     "metadata": {},
     "output_type": "execute_result"
    }
   ],
   "source": [
    "device = torch.device('cuda' if torch.cuda.is_available() else 'cpu')\n",
    "model.to(device)\n",
    "device"
   ]
  },
  {
   "cell_type": "code",
   "execution_count": 16,
   "id": "e057f7d4",
   "metadata": {},
   "outputs": [
    {
     "name": "stdout",
     "output_type": "stream",
     "text": [
      "Epoch 1/10, Loss: 1.8501302786171436\n",
      "Epoch 2/10, Loss: 1.522880993783474\n",
      "Epoch 3/10, Loss: 1.4377997256815434\n",
      "Epoch 4/10, Loss: 1.3866420239210129\n",
      "Epoch 5/10, Loss: 1.3119575940072536\n",
      "Epoch 6/10, Loss: 1.3354383558034897\n",
      "Epoch 7/10, Loss: 1.2596392650157213\n",
      "Epoch 8/10, Loss: 1.2419206257909536\n",
      "Epoch 9/10, Loss: 1.234517516568303\n",
      "Epoch 10/10, Loss: 1.2786836959421635\n",
      "Training complete\n"
     ]
    }
   ],
   "source": [
    "num_epochs = 10 \n",
    "for epoch in range(num_epochs):\n",
    "    model.train()\n",
    "    running_loss = 0.0\n",
    "    for images, labels in data_loader:\n",
    "        images, labels = images.to(device), labels.to(device)\n",
    "        optimizer.zero_grad()\n",
    "        outputs = model(images)\n",
    "        loss = criterion(outputs, labels)\n",
    "        loss.backward()\n",
    "        optimizer.step()\n",
    "        running_loss += loss.item()\n",
    "    print(f'Epoch {epoch+1}/{num_epochs}, Loss: {running_loss / len(data_loader)}')\n",
    "\n",
    "print('Training complete')"
   ]
  },
  {
   "cell_type": "code",
   "execution_count": 17,
   "id": "897766a0",
   "metadata": {},
   "outputs": [
    {
     "name": "stdout",
     "output_type": "stream",
     "text": [
      "Accuracy on the test set: 65.0%\n"
     ]
    }
   ],
   "source": [
    "model.eval()\n",
    "correct = 0\n",
    "total = 0\n",
    "\n",
    "with torch.no_grad():\n",
    "    for images, labels in test_loader:\n",
    "        images, labels = images.to(device), labels.to(device)\n",
    "        outputs = model(images)\n",
    "        _, predicted = torch.max(outputs.data, 1)\n",
    "        total += labels.size(0)\n",
    "        correct += (predicted == labels).sum().item()\n",
    "\n",
    "print(f'Accuracy on the test set: {100 * correct / total}%')\n"
   ]
  },
  {
   "cell_type": "markdown",
   "id": "39f7ad07",
   "metadata": {},
   "source": [
    "# VGG16"
   ]
  },
  {
   "cell_type": "code",
   "execution_count": 23,
   "id": "ed029769",
   "metadata": {},
   "outputs": [],
   "source": [
    "model = torchvision.models.vgg16(pretrained=True)\n",
    "model.classifier[6] = torch.nn.Linear(4096, 10)"
   ]
  },
  {
   "cell_type": "code",
   "execution_count": 24,
   "id": "13ce2c14",
   "metadata": {},
   "outputs": [
    {
     "name": "stdout",
     "output_type": "stream",
     "text": [
      "Epoch 1/10, Loss: 2.3518637084960936\n",
      "Epoch 2/10, Loss: 2.341915683746338\n",
      "Epoch 3/10, Loss: 2.330120315551758\n",
      "Epoch 4/10, Loss: 2.3215833854675294\n",
      "Epoch 5/10, Loss: 2.3442965507507325\n",
      "Epoch 6/10, Loss: 2.3587585067749024\n",
      "Epoch 7/10, Loss: 2.350939865112305\n",
      "Epoch 8/10, Loss: 2.3424289512634275\n",
      "Epoch 9/10, Loss: 2.3444355964660644\n",
      "Epoch 10/10, Loss: 2.336500873565674\n",
      "Training complete\n"
     ]
    }
   ],
   "source": [
    "model.to(device)\n",
    "for epoch in range(num_epochs):\n",
    "    model.train()\n",
    "    running_loss = 0.0\n",
    "    for images, labels in train_loader:\n",
    "        images, labels = images.to(device), labels.to(device)\n",
    "        optimizer.zero_grad()\n",
    "        outputs = model(images)\n",
    "        loss = criterion(outputs, labels)\n",
    "        loss.backward()\n",
    "        optimizer.step()\n",
    "        running_loss += loss.item()\n",
    "    print(f'Epoch {epoch+1}/{num_epochs}, Loss: {running_loss / len(train_loader)}')\n",
    "\n",
    "print('Training complete')"
   ]
  },
  {
   "cell_type": "code",
   "execution_count": 25,
   "id": "251f5ba3",
   "metadata": {},
   "outputs": [
    {
     "name": "stdout",
     "output_type": "stream",
     "text": [
      "Accuracy on the test set with VGG16: 18.5%\n"
     ]
    }
   ],
   "source": [
    "model.eval()\n",
    "correct = 0\n",
    "total = 0\n",
    "\n",
    "with torch.no_grad():\n",
    "    for images, labels in test_loader:\n",
    "        images, labels = images.to(device), labels.to(device)\n",
    "        outputs = model(images)\n",
    "        _, predicted = torch.max(outputs.data, 1)\n",
    "        total += labels.size(0)\n",
    "        correct += (predicted == labels).sum().item()\n",
    "\n",
    "print(f'Accuracy on the test set with VGG16: {100 * correct / total}%')"
   ]
  },
  {
   "cell_type": "markdown",
   "id": "b5d3aae2",
   "metadata": {},
   "source": [
    "# Resnet50"
   ]
  },
  {
   "cell_type": "code",
   "execution_count": 3,
   "id": "b49228b2",
   "metadata": {
    "tags": []
   },
   "outputs": [],
   "source": [
    "from torch.utils.data import DataLoader"
   ]
  },
  {
   "cell_type": "code",
   "execution_count": 4,
   "id": "00ebdeab",
   "metadata": {
    "tags": []
   },
   "outputs": [],
   "source": [
    "transform = transforms.Compose([\n",
    "    transforms.Resize((224, 224)),\n",
    "    transforms.ToTensor(),\n",
    "    transforms.Normalize(mean=[0.485, 0.456, 0.406], std=[0.229, 0.224, 0.225])\n",
    "])"
   ]
  },
  {
   "cell_type": "code",
   "execution_count": 7,
   "id": "6239fbed",
   "metadata": {
    "tags": []
   },
   "outputs": [],
   "source": [
    "dataset = torchvision.datasets.ImageFolder(root=data_dir, transform=transform)\n",
    "labels = [label for _, label in dataset]"
   ]
  },
  {
   "cell_type": "code",
   "execution_count": 8,
   "id": "6ec149dd",
   "metadata": {
    "tags": []
   },
   "outputs": [],
   "source": [
    "train_data, test_data = train_test_split(dataset, test_size=0.2, random_state=42, stratify=labels)"
   ]
  },
  {
   "cell_type": "code",
   "execution_count": 9,
   "id": "d78cf684",
   "metadata": {
    "tags": []
   },
   "outputs": [],
   "source": [
    "batch_size = 64\n",
    "train_loader = DataLoader(train_data, batch_size=batch_size, shuffle=True)\n",
    "test_loader = DataLoader(test_data, batch_size=batch_size, shuffle=False)"
   ]
  },
  {
   "cell_type": "code",
   "execution_count": 10,
   "id": "7f491b57",
   "metadata": {
    "tags": []
   },
   "outputs": [],
   "source": [
    "model = torchvision.models.resnet50(pretrained=True)\n",
    "model.fc = torch.nn.Linear(2048, 10)"
   ]
  },
  {
   "cell_type": "code",
   "execution_count": 11,
   "id": "efe5a1d4",
   "metadata": {
    "tags": []
   },
   "outputs": [],
   "source": [
    "criterion = torch.nn.CrossEntropyLoss()\n",
    "optimizer = torch.optim.Adam(model.parameters(), lr=0.001)"
   ]
  },
  {
   "cell_type": "code",
   "execution_count": 12,
   "id": "5e312fbf",
   "metadata": {
    "tags": []
   },
   "outputs": [
    {
     "data": {
      "text/plain": [
       "device(type='cuda')"
      ]
     },
     "execution_count": 12,
     "metadata": {},
     "output_type": "execute_result"
    }
   ],
   "source": [
    "device = torch.device('cuda' if torch.cuda.is_available() else 'cpu')\n",
    "model.to(device)\n",
    "device"
   ]
  },
  {
   "cell_type": "code",
   "execution_count": 14,
   "id": "414be836",
   "metadata": {
    "tags": []
   },
   "outputs": [
    {
     "name": "stdout",
     "output_type": "stream",
     "text": [
      "Epoch 1/20, Loss: 1.0354663546268756\n",
      "Epoch 2/20, Loss: 0.7836848955888015\n",
      "Epoch 3/20, Loss: 0.5925548878999857\n",
      "Epoch 4/20, Loss: 0.5081726839909186\n",
      "Epoch 5/20, Loss: 0.40653340174601627\n",
      "Epoch 6/20, Loss: 0.29532091376873165\n",
      "Epoch 7/20, Loss: 0.22879053824223006\n",
      "Epoch 8/20, Loss: 0.2542165036384876\n",
      "Epoch 9/20, Loss: 0.15281225425692704\n",
      "Epoch 10/20, Loss: 0.14335723565174982\n",
      "Epoch 11/20, Loss: 0.181154038470525\n",
      "Epoch 12/20, Loss: 0.21057491921461546\n",
      "Epoch 13/20, Loss: 0.17540376174908417\n",
      "Epoch 14/20, Loss: 0.15222088562754485\n",
      "Epoch 15/20, Loss: 0.1681425623022593\n",
      "Epoch 16/20, Loss: 0.1562824656183903\n",
      "Epoch 17/20, Loss: 0.144208529104407\n",
      "Epoch 18/20, Loss: 0.14694912473742777\n",
      "Epoch 19/20, Loss: 0.10925274055737716\n",
      "Epoch 20/20, Loss: 0.06691523025242183\n",
      "Training complete\n"
     ]
    }
   ],
   "source": [
    "for epoch in range(20):\n",
    "    model.train()\n",
    "    running_loss = 0.0\n",
    "    for images, labels in train_loader:\n",
    "        images, labels = images.to(device), labels.to(device)\n",
    "        optimizer.zero_grad()\n",
    "        outputs = model(images)\n",
    "        loss = criterion(outputs, labels)\n",
    "        loss.backward()\n",
    "        optimizer.step()\n",
    "        running_loss += loss.item()\n",
    "    print(f'Epoch {epoch + 1}/20, Loss: {running_loss / len(train_loader)}')\n",
    "\n",
    "print('Training complete')"
   ]
  },
  {
   "cell_type": "code",
   "execution_count": 15,
   "id": "24151629",
   "metadata": {
    "tags": []
   },
   "outputs": [
    {
     "name": "stdout",
     "output_type": "stream",
     "text": [
      "Accuracy on the test set: 56.0%\n"
     ]
    }
   ],
   "source": [
    "model.eval()\n",
    "correct = 0\n",
    "total = 0\n",
    "\n",
    "with torch.no_grad():\n",
    "    for images, labels in test_loader:\n",
    "        images, labels = images.to(device), labels.to(device)\n",
    "        outputs = model(images)\n",
    "        _, predicted = torch.max(outputs.data, 1)\n",
    "        total += labels.size(0)\n",
    "        correct += (predicted == labels).sum().item()\n",
    "\n",
    "accuracy = 100 * correct / total\n",
    "print(f'Accuracy on the test set: {accuracy}%')"
   ]
  }
 ],
 "metadata": {
  "kernelspec": {
   "display_name": "Python 3 (ipykernel)",
   "language": "python",
   "name": "python3"
  },
  "language_info": {
   "codemirror_mode": {
    "name": "ipython",
    "version": 3
   },
   "file_extension": ".py",
   "mimetype": "text/x-python",
   "name": "python",
   "nbconvert_exporter": "python",
   "pygments_lexer": "ipython3",
   "version": "3.11.4"
  }
 },
 "nbformat": 4,
 "nbformat_minor": 5
}
