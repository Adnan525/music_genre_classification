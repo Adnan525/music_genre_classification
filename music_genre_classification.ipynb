{
 "cells": [
  {
   "cell_type": "code",
   "execution_count": 4,
   "id": "877bd2a8",
   "metadata": {},
   "outputs": [],
   "source": [
    "import os\n",
    "import pandas as pd\n",
    "import numpy as np\n",
    "import seaborn as sns\n",
    "import matplotlib.pyplot as plt\n",
    "import sklearn\n",
    "import librosa\n",
    "import librosa.display\n",
    "import IPython.display as ipd\n",
    "import warnings\n",
    "warnings.filterwarnings(\"ignore\")"
   ]
  },
  {
   "cell_type": "markdown",
   "id": "9ed40daf",
   "metadata": {},
   "source": [
    "# We will be working directly with music files, we have wav files in the datset"
   ]
  },
  {
   "cell_type": "code",
   "execution_count": 6,
   "id": "4fdbf585",
   "metadata": {},
   "outputs": [
    {
     "data": {
      "text/plain": [
       "(array([ 0.00732422,  0.01660156,  0.00762939, ..., -0.05560303,\n",
       "        -0.06106567, -0.06417847], dtype=float32),\n",
       " 22050,\n",
       " (661794,))"
      ]
     },
     "execution_count": 6,
     "metadata": {},
     "output_type": "execute_result"
    }
   ],
   "source": [
    "# testing with 1 file\n",
    "file, sample_rate = librosa.load(\"music_genre_dataset/Data/genres_original/blues/blues.00000.wav\")\n",
    "file, sample_rate, np.shape(file)"
   ]
  },
  {
   "cell_type": "code",
   "execution_count": null,
   "id": "e6c01625",
   "metadata": {},
   "outputs": [],
   "source": []
  }
 ],
 "metadata": {
  "kernelspec": {
   "display_name": "Python 3 (ipykernel)",
   "language": "python",
   "name": "python3"
  },
  "language_info": {
   "codemirror_mode": {
    "name": "ipython",
    "version": 3
   },
   "file_extension": ".py",
   "mimetype": "text/x-python",
   "name": "python",
   "nbconvert_exporter": "python",
   "pygments_lexer": "ipython3",
   "version": "3.11.4"
  }
 },
 "nbformat": 4,
 "nbformat_minor": 5
}
